{
 "cells": [
  {
   "cell_type": "code",
   "execution_count": 1,
   "metadata": {
    "collapsed": true
   },
   "outputs": [],
   "source": [
    "from retrain import *\n",
    "import tensorflow as tf\n",
    "import numpy as np\n",
    "import time"
   ]
  },
  {
   "cell_type": "code",
   "execution_count": 2,
   "metadata": {
    "collapsed": true
   },
   "outputs": [],
   "source": [
    "#test on google's image laerning using imagenet input file structure\n",
    "IMGDIR = \"/Users/zhouyu/Documents/Zhou_Yu/DS/Galvanize/Capstone_data/test_data_stan\"\n",
    "class Helper_FLAGS(object):\n",
    "    def __init__(self):\n",
    "        self.model_dir = \"./temp\"\n",
    "        self.image_dir = IMGDIR\n",
    "        self.testing_percentage = 10\n",
    "        self.validation_percentage = 10\n",
    "        self.flip_left_right = False\n",
    "        self.random_crop = False\n",
    "        self.random_scale = False\n",
    "        self.random_brightness = False\n",
    "        self.bottleneck_dir = './temp/bottleneck'\n",
    "        self.architecture = 'inception_v3'\n",
    "        self.final_tensor_name = 'final_result'\n",
    "        self.summaries_dir = './temp/retrain_logs'\n",
    "        self.how_many_training_steps = 10\n",
    "        self.train_batch_size = 32\n",
    "        self.eval_step_interval = 10\n",
    "        self.validation_batch_size = 32\n",
    "        self.intermediate_store_frequency = 0\n",
    "        self.intermediate_output_graphs_dir = \"./temp/intermediate_graph\"\n",
    "        self.print_misclassified_test_images = False\n",
    "        self.output_graph = './temp/output_graph.pb'\n",
    "        self.output_labels = './temp/output_labels.txt'\n",
    "        self.test_batch_size = -1\n",
    "zFLAGS = Helper_FLAGS()"
   ]
  },
  {
   "cell_type": "code",
   "execution_count": 3,
   "metadata": {
    "collapsed": true
   },
   "outputs": [],
   "source": [
    "def create_transfermodel_info():\n",
    "    return {'bottleneck_tensor_name':\"pool_3/_reshape:0\",\n",
    "    'bottleneck_tensor_size':2048,\n",
    "    'input_width':299,\n",
    "    'input_height':299,\n",
    "    'input_depth':3,\n",
    "    'resized_input_tensor_name':'Mul:0',\n",
    "    'model_file_name':'output_graph.pb',\n",
    "    'input_mean':128,\n",
    "    'input_std':128,\n",
    "    'tmodel_weights':'final_training_ops/weights/final_weights:0',\n",
    "    'tmodel_bias':'final_training_ops/biases/final_biases:0'\n",
    "           }"
   ]
  },
  {
   "cell_type": "code",
   "execution_count": 10,
   "metadata": {
    "collapsed": false
   },
   "outputs": [],
   "source": [
    "def create_transfermodel_graph(tfmodel_info):\n",
    "    dest_directory = './temp'\n",
    "    with tf.Graph().as_default() as graph:\n",
    "        tfmodel_path = os.path.join(dest_directory, tfmodel_info['model_file_name'])\n",
    "        with gfile.FastGFile(tfmodel_path, 'rb') as f:\n",
    "            graph_def = tf.GraphDef()\n",
    "            graph_def.ParseFromString(f.read())\n",
    "            bottleneck_tensor, resized_input_tensor,final_weights_tensor, final_biases_tensor = (tf.import_graph_def(\n",
    "              graph_def,\n",
    "              name='',\n",
    "              return_elements=[\n",
    "                  tfmodel_info['bottleneck_tensor_name'],\n",
    "                  tfmodel_info['resized_input_tensor_name'],\n",
    "                  tfmodel_info['tmodel_weights'],\n",
    "                  tfmodel_info['tmodel_bias'],\n",
    "              ]))\n",
    "    return graph, bottleneck_tensor, resized_input_tensor,final_weights_tensor, final_biases_tensor"
   ]
  },
  {
   "cell_type": "code",
   "execution_count": 11,
   "metadata": {
    "collapsed": true
   },
   "outputs": [],
   "source": [
    "def get_predict_image_bottleneck(image_path, sess, jpeg_data_tensor,\n",
    "                           decoded_image_tensor, resized_input_tensor,\n",
    "                           bottleneck_tensor):\n",
    "    if not gfile.Exists(image_path):\n",
    "        tf.logging.fatal('File does not exist %s', image_path)\n",
    "    image_data = gfile.FastGFile(image_path, 'rb').read()\n",
    "    try:\n",
    "        #bottleneck_value = run_bottleneck_on_image(\n",
    "        #    sess, image_data, jpeg_data_tensor, decoded_image_tensor,\n",
    "        #    resized_input_tensor, bottleneck_tensor)\n",
    "          # First decode the JPEG image, resize it, and rescale the pixel values.\n",
    "        resized_input_values = sess.run(decoded_image_tensor,\n",
    "                                  {jpeg_data_tensor: image_data})\n",
    "          # Then run it through the recognition network.\n",
    "        bottleneck_values = sess.run(bottleneck_tensor,\n",
    "                               {resized_input_tensor: resized_input_values})\n",
    "        bottleneck_values = np.squeeze(bottleneck_values)\n",
    "    except Exception as e:\n",
    "        raise RuntimeError('Error during processing file %s (%s)' % (image_path,\n",
    "                                                                 str(e)))\n",
    "    return bottleneck_values"
   ]
  },
  {
   "cell_type": "code",
   "execution_count": 20,
   "metadata": {
    "collapsed": true
   },
   "outputs": [],
   "source": [
    "# not in use\n",
    "def get_one_prediction(pred_tensor,final_W, final_b, bottleneck_tensor_size):\n",
    "    bottleneck_input = tf.placeholder_with_default(\n",
    "            pred_tensor,\n",
    "            shape=[bottleneck_tensor_size],\n",
    "            name='BottleneckInputPlaceholder')\n",
    "    logits = tf.matmul(bottleneck_input, final_W) + final_b\n",
    "    final_tensor = tf.nn.softmax(logits)\n",
    "    return final_tensor"
   ]
  },
  {
   "cell_type": "code",
   "execution_count": 21,
   "metadata": {
    "collapsed": false
   },
   "outputs": [],
   "source": [
    "transfer_model_info = create_transfermodel_info()\n",
    "graph, bottleneck_tensor, resized_image_tensor, final_weights_tensor, final_biases_tensor = (create_transfermodel_graph(transfer_model_info))"
   ]
  },
  {
   "cell_type": "code",
   "execution_count": 32,
   "metadata": {
    "collapsed": true
   },
   "outputs": [],
   "source": [
    "test_image_path = \"/Users/zhouyu/Documents/Zhou_Yu/DS/Galvanize/Capstone_data/test_of_test/n02085620_11258.jpg\""
   ]
  },
  {
   "cell_type": "code",
   "execution_count": 33,
   "metadata": {
    "collapsed": false
   },
   "outputs": [
    {
     "name": "stdout",
     "output_type": "stream",
     "text": [
      "[[ 0.19964144  0.80035859]]\n"
     ]
    }
   ],
   "source": [
    "with tf.Session(graph=graph) as sess:\n",
    "    jpeg_data_tensor, decoded_image_tensor = add_jpeg_decoding(\n",
    "        transfer_model_info['input_width'], transfer_model_info['input_height'],\n",
    "        transfer_model_info['input_depth'], transfer_model_info['input_mean'],\n",
    "        transfer_model_info['input_std'])\n",
    "    bo_value = get_predict_image_bottleneck(test_image_path, sess, jpeg_data_tensor, \n",
    "                                            decoded_image_tensor, resized_image_tensor, bottleneck_tensor)\n",
    "    bo_value = bo_value.reshape((1, bo_value.shape[0]))\n",
    "    logits = tf.matmul(bo_value, final_weights_tensor) + final_biases_tensor\n",
    "    pred_prob = tf.nn.softmax(logits)\n",
    "    prob_res = sess.run(pred_prob)\n",
    "    print prob_res"
   ]
  },
  {
   "cell_type": "code",
   "execution_count": 44,
   "metadata": {
    "collapsed": true
   },
   "outputs": [],
   "source": [
    "# get label lists\n",
    "def getLabelList(label_file):\n",
    "    labels = []\n",
    "    with open(label_file, 'r') as f:\n",
    "        labels = f.read().splitlines()\n",
    "    return labels\n",
    "def getPredLabel(probs, labels):\n",
    "    pred_labels = []\n",
    "    for prob in probs:\n",
    "        pred_labels.append(labels[np.argmax(prob)])\n",
    "    return pred_labels"
   ]
  },
  {
   "cell_type": "code",
   "execution_count": 45,
   "metadata": {
    "collapsed": false
   },
   "outputs": [],
   "source": [
    "labels = getLabelList(\"./temp/output_labels.txt\")"
   ]
  },
  {
   "cell_type": "code",
   "execution_count": 47,
   "metadata": {
    "collapsed": false
   },
   "outputs": [
    {
     "data": {
      "text/plain": [
       "['chihuahua']"
      ]
     },
     "execution_count": 47,
     "metadata": {},
     "output_type": "execute_result"
    }
   ],
   "source": [
    "getPredLabel(prob_res, labels)"
   ]
  },
  {
   "cell_type": "code",
   "execution_count": null,
   "metadata": {
    "collapsed": true
   },
   "outputs": [],
   "source": []
  }
 ],
 "metadata": {
  "anaconda-cloud": {},
  "kernelspec": {
   "display_name": "Python [conda root]",
   "language": "python",
   "name": "conda-root-py"
  },
  "language_info": {
   "codemirror_mode": {
    "name": "ipython",
    "version": 2
   },
   "file_extension": ".py",
   "mimetype": "text/x-python",
   "name": "python",
   "nbconvert_exporter": "python",
   "pygments_lexer": "ipython2",
   "version": "2.7.13"
  }
 },
 "nbformat": 4,
 "nbformat_minor": 2
}
