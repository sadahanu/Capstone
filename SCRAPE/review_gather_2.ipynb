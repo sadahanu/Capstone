{
 "cells": [
  {
   "cell_type": "code",
   "execution_count": 20,
   "metadata": {
    "collapsed": true
   },
   "outputs": [],
   "source": [
    "import pandas as pd\n",
    "import matplotlib.pyplot as plt\n",
    "import boto3\n",
    "import requests\n",
    "from bs4 import BeautifulSoup\n",
    "from collections import defaultdict\n",
    "import re\n",
    "import time\n",
    "%matplotlib inline"
   ]
  },
  {
   "cell_type": "code",
   "execution_count": 2,
   "metadata": {
    "collapsed": true
   },
   "outputs": [],
   "source": [
    "df_toys = pd.read_csv(\"s3://dogfaces/reviews/toys.csv\")"
   ]
  },
  {
   "cell_type": "code",
   "execution_count": 3,
   "metadata": {
    "collapsed": false
   },
   "outputs": [
    {
     "data": {
      "text/html": [
       "<div>\n",
       "<table border=\"1\" class=\"dataframe\">\n",
       "  <thead>\n",
       "    <tr style=\"text-align: right;\">\n",
       "      <th></th>\n",
       "      <th>cat_id</th>\n",
       "      <th>num_reviews</th>\n",
       "      <th>picture_link</th>\n",
       "      <th>price</th>\n",
       "      <th>toy_id</th>\n",
       "      <th>toy_link</th>\n",
       "      <th>toy_name</th>\n",
       "    </tr>\n",
       "  </thead>\n",
       "  <tbody>\n",
       "    <tr>\n",
       "      <th>0</th>\n",
       "      <td>1</td>\n",
       "      <td>800</td>\n",
       "      <td>https://img.chewy.com/is/catalog/62758_MAIN._A...</td>\n",
       "      <td>$1.19</td>\n",
       "      <td>47728</td>\n",
       "      <td>https://www.chewy.com/kong-airdog-squeakair-ba...</td>\n",
       "      <td>kong-airdog-squeakair-ball-dog-toy</td>\n",
       "    </tr>\n",
       "    <tr>\n",
       "      <th>1</th>\n",
       "      <td>1</td>\n",
       "      <td>127</td>\n",
       "      <td>https://img.chewy.com/is/catalog/80753._AC_SS1...</td>\n",
       "      <td>$2.99</td>\n",
       "      <td>108582</td>\n",
       "      <td>https://www.chewy.com/mammoth-monkey-fist-bar-...</td>\n",
       "      <td>mammoth-monkey-fist-bar-dog-toy</td>\n",
       "    </tr>\n",
       "    <tr>\n",
       "      <th>2</th>\n",
       "      <td>1</td>\n",
       "      <td>292</td>\n",
       "      <td>https://img.chewy.com/is/catalog/62850._AC_SS1...</td>\n",
       "      <td>$3.39</td>\n",
       "      <td>47880</td>\n",
       "      <td>https://www.chewy.com/kong-squeakair-birthday-...</td>\n",
       "      <td>kong-squeakair-birthday-balls-dog</td>\n",
       "    </tr>\n",
       "    <tr>\n",
       "      <th>3</th>\n",
       "      <td>1</td>\n",
       "      <td>1233</td>\n",
       "      <td>https://img.chewy.com/is/catalog/77643._AC_SS1...</td>\n",
       "      <td>$9.39</td>\n",
       "      <td>105502</td>\n",
       "      <td>https://www.chewy.com/kong-jumbler-ball-dog-to...</td>\n",
       "      <td>kong-jumbler-ball-dog-toy-color</td>\n",
       "    </tr>\n",
       "    <tr>\n",
       "      <th>4</th>\n",
       "      <td>1</td>\n",
       "      <td>538</td>\n",
       "      <td>https://img.chewy.com/is/catalog/53235_MAIN._A...</td>\n",
       "      <td>$6.85</td>\n",
       "      <td>38371</td>\n",
       "      <td>https://www.chewy.com/chuckit-ultra-rubber-bal...</td>\n",
       "      <td>chuckit-ultra-rubber-ball-medium-2</td>\n",
       "    </tr>\n",
       "  </tbody>\n",
       "</table>\n",
       "</div>"
      ],
      "text/plain": [
       "   cat_id  num_reviews                                       picture_link  \\\n",
       "0       1          800  https://img.chewy.com/is/catalog/62758_MAIN._A...   \n",
       "1       1          127  https://img.chewy.com/is/catalog/80753._AC_SS1...   \n",
       "2       1          292  https://img.chewy.com/is/catalog/62850._AC_SS1...   \n",
       "3       1         1233  https://img.chewy.com/is/catalog/77643._AC_SS1...   \n",
       "4       1          538  https://img.chewy.com/is/catalog/53235_MAIN._A...   \n",
       "\n",
       "   price  toy_id                                           toy_link  \\\n",
       "0  $1.19   47728  https://www.chewy.com/kong-airdog-squeakair-ba...   \n",
       "1  $2.99  108582  https://www.chewy.com/mammoth-monkey-fist-bar-...   \n",
       "2  $3.39   47880  https://www.chewy.com/kong-squeakair-birthday-...   \n",
       "3  $9.39  105502  https://www.chewy.com/kong-jumbler-ball-dog-to...   \n",
       "4  $6.85   38371  https://www.chewy.com/chuckit-ultra-rubber-bal...   \n",
       "\n",
       "                             toy_name  \n",
       "0  kong-airdog-squeakair-ball-dog-toy  \n",
       "1     mammoth-monkey-fist-bar-dog-toy  \n",
       "2   kong-squeakair-birthday-balls-dog  \n",
       "3     kong-jumbler-ball-dog-toy-color  \n",
       "4  chuckit-ultra-rubber-ball-medium-2  "
      ]
     },
     "execution_count": 3,
     "metadata": {},
     "output_type": "execute_result"
    }
   ],
   "source": [
    "df_toys.head()"
   ]
  },
  {
   "cell_type": "code",
   "execution_count": 4,
   "metadata": {
    "collapsed": true
   },
   "outputs": [],
   "source": [
    "test_url = df_toys['toy_link'][0]\n",
    "review_url = test_url.replace('/dp/','/product-reviews/') +'?'+'reviewSort=NEWEST&reviewFilter=ALL_STARS&pageNumber=6'\n",
    "r = requests.get(review_url)"
   ]
  },
  {
   "cell_type": "code",
   "execution_count": 5,
   "metadata": {
    "collapsed": false
   },
   "outputs": [
    {
     "name": "stdout",
     "output_type": "stream",
     "text": [
      "https://www.chewy.com/kong-airdog-squeakair-ball-dog-toy/product-reviews/47728?reviewSort=NEWEST&reviewFilter=ALL_STARS&pageNumber=6\n"
     ]
    }
   ],
   "source": [
    "print review_url"
   ]
  },
  {
   "cell_type": "code",
   "execution_count": 6,
   "metadata": {
    "collapsed": false
   },
   "outputs": [
    {
     "data": {
      "text/plain": [
       "'https://www.chewy.com/kong-airdog-squeakair-ball-dog-toy/product-reviews/47728?reviewSort=NEWEST&reviewFilter=ALL_STARS&pageNumber=1'"
      ]
     },
     "execution_count": 6,
     "metadata": {},
     "output_type": "execute_result"
    }
   ],
   "source": [
    " 'https://www.chewy.com/kong-airdog-squeakair-ball-dog-toy/product-reviews/47728?reviewSort=NEWEST&reviewFilter=ALL_STARS&pageNumber=1'"
   ]
  },
  {
   "cell_type": "code",
   "execution_count": 7,
   "metadata": {
    "collapsed": false
   },
   "outputs": [],
   "source": [
    "soup = BeautifulSoup(r.content,'lxml')"
   ]
  },
  {
   "cell_type": "code",
   "execution_count": 8,
   "metadata": {
    "collapsed": false
   },
   "outputs": [
    {
     "name": "stdout",
     "output_type": "stream",
     "text": [
      "{'data-content-id': '184122095', 'itemscope': '', 'class': ['js-content'], 'itemprop': 'review', 'itemtype': 'http://schema.org/Review'}\n",
      "{'data-content-id': '184036857', 'itemscope': '', 'class': ['js-content'], 'itemprop': 'review', 'itemtype': 'http://schema.org/Review'}\n",
      "{'data-content-id': '183977882', 'itemscope': '', 'class': ['js-content'], 'itemprop': 'review', 'itemtype': 'http://schema.org/Review'}\n",
      "{'data-content-id': '183907922', 'itemscope': '', 'class': ['js-content'], 'itemprop': 'review', 'itemtype': 'http://schema.org/Review'}\n",
      "{'data-content-id': '183744357', 'itemscope': '', 'class': ['js-content'], 'itemprop': 'review', 'itemtype': 'http://schema.org/Review'}\n",
      "{'data-content-id': '183743685', 'itemscope': '', 'class': ['js-content'], 'itemprop': 'review', 'itemtype': 'http://schema.org/Review'}\n",
      "{'data-content-id': '183685596', 'itemscope': '', 'class': ['js-content'], 'itemprop': 'review', 'itemtype': 'http://schema.org/Review'}\n",
      "{'data-content-id': '183483074', 'itemscope': '', 'class': ['js-content'], 'itemprop': 'review', 'itemtype': 'http://schema.org/Review'}\n",
      "{'data-content-id': '183352427', 'itemscope': '', 'class': ['js-content'], 'itemprop': 'review', 'itemtype': 'http://schema.org/Review'}\n",
      "{'data-content-id': '183331394', 'itemscope': '', 'class': ['js-content'], 'itemprop': 'review', 'itemtype': 'http://schema.org/Review'}\n"
     ]
    }
   ],
   "source": [
    "for sec in soup.select(\"li.js-content\"):\n",
    "    print sec.attrs"
   ]
  },
  {
   "cell_type": "code",
   "execution_count": 9,
   "metadata": {
    "collapsed": false
   },
   "outputs": [],
   "source": [
    "#|reviewid|toyid|toy_name | user_name| stars| review_text| time| image|image_id| useful|\n",
    "review_id = sec['data-content-id']"
   ]
  },
  {
   "cell_type": "code",
   "execution_count": 10,
   "metadata": {
    "collapsed": false
   },
   "outputs": [
    {
     "name": "stdout",
     "output_type": "stream",
     "text": [
      "3\n"
     ]
    }
   ],
   "source": [
    "rating_raw = sec.select_one(\"span.ugc-list__list__stars\").select_one(\"source\")['srcset']\n",
    "rating = int(re.findall('rating-(\\S*)\\.svg',rating_raw)[0].split('_')[0])\n",
    "print rating"
   ]
  },
  {
   "cell_type": "code",
   "execution_count": 11,
   "metadata": {
    "collapsed": false
   },
   "outputs": [
    {
     "name": "stdout",
     "output_type": "stream",
     "text": [
      "Rhonda\n"
     ]
    }
   ],
   "source": [
    "user_name = sec.find_all(\"span\",{\"itemprop\":\"author\"})[0].get_text()\n",
    "print user_name"
   ]
  },
  {
   "cell_type": "code",
   "execution_count": 13,
   "metadata": {
    "collapsed": false
   },
   "outputs": [
    {
     "name": "stdout",
     "output_type": "stream",
     "text": [
      "Jul 23, 2017\n"
     ]
    }
   ],
   "source": [
    "date = sec.find_all(\"span\",{\"itemprop\":\"datePublished\"})[0].get_text()\n",
    "print date"
   ]
  },
  {
   "cell_type": "code",
   "execution_count": 177,
   "metadata": {
    "collapsed": false
   },
   "outputs": [
    {
     "name": "stdout",
     "output_type": "stream",
     "text": [
      "I'm not sure there's much to say. A tennis ball is a tennis ball. Harvey loves them!\n"
     ]
    }
   ],
   "source": [
    "review_text = sec.select_one(\"span.ugc-list__review__display\").get_text()\n",
    "print review_text"
   ]
  },
  {
   "cell_type": "code",
   "execution_count": 198,
   "metadata": {
    "collapsed": false
   },
   "outputs": [],
   "source": [
    "test_review_img = soup.select(\"li.js-content\")[-2]\n",
    "pic = test_review_img.select_one('a.js-open-modal.js-swap')\n",
    "if pic:\n",
    "    pic_link = pic[\"data-image\"]\n",
    "    pic_items = pic_link.split(\"/\")\n",
    "    pic_id = \"_\".join(pic_items[-3:-1])\n",
    "    pic_name = \"_\".join(pic_items[-3:])"
   ]
  },
  {
   "cell_type": "code",
   "execution_count": 192,
   "metadata": {
    "collapsed": false
   },
   "outputs": [
    {
     "data": {
      "text/plain": [
       "'http://chewy.ugc.bazaarvoice.com/0090-en_us/1837760/photo.jpg'"
      ]
     },
     "execution_count": 192,
     "metadata": {},
     "output_type": "execute_result"
    }
   ],
   "source": [
    "test_review_img.select_one(\"a.js-open-modal.js-swap\")[\"data-image\"]"
   ]
  },
  {
   "cell_type": "code",
   "execution_count": 199,
   "metadata": {
    "collapsed": false
   },
   "outputs": [
    {
     "data": {
      "text/plain": [
       "'0090-en_us_1837760_photo.jpg'"
      ]
     },
     "execution_count": 199,
     "metadata": {},
     "output_type": "execute_result"
    }
   ],
   "source": [
    "pic_name"
   ]
  },
  {
   "cell_type": "markdown",
   "metadata": {
    "collapsed": true
   },
   "source": [
    "### test scripts - 1"
   ]
  },
  {
   "cell_type": "code",
   "execution_count": 54,
   "metadata": {
    "collapsed": true
   },
   "outputs": [],
   "source": [
    "from list_reviews import *"
   ]
  },
  {
   "cell_type": "code",
   "execution_count": 41,
   "metadata": {
    "collapsed": true
   },
   "outputs": [],
   "source": [
    "test_row = df_toys.iloc[100]"
   ]
  },
  {
   "cell_type": "code",
   "execution_count": 42,
   "metadata": {
    "collapsed": false
   },
   "outputs": [],
   "source": [
    "start_time = time.time()\n",
    "reviews, pics = get_review_content(test_row)\n",
    "end_time = time.time()"
   ]
  },
  {
   "cell_type": "code",
   "execution_count": 43,
   "metadata": {
    "collapsed": false
   },
   "outputs": [
    {
     "data": {
      "text/plain": [
       "2.501729965209961"
      ]
     },
     "execution_count": 43,
     "metadata": {},
     "output_type": "execute_result"
    }
   ],
   "source": [
    "end_time - start_time"
   ]
  },
  {
   "cell_type": "code",
   "execution_count": 44,
   "metadata": {
    "collapsed": false
   },
   "outputs": [
    {
     "data": {
      "text/plain": [
       "55"
      ]
     },
     "execution_count": 44,
     "metadata": {},
     "output_type": "execute_result"
    }
   ],
   "source": [
    "len(reviews)"
   ]
  },
  {
   "cell_type": "code",
   "execution_count": 45,
   "metadata": {
    "collapsed": false
   },
   "outputs": [
    {
     "data": {
      "text/html": [
       "<div>\n",
       "<table border=\"1\" class=\"dataframe\">\n",
       "  <thead>\n",
       "    <tr style=\"text-align: right;\">\n",
       "      <th></th>\n",
       "      <th>rating</th>\n",
       "      <th>review_content</th>\n",
       "      <th>review_id</th>\n",
       "      <th>review_time</th>\n",
       "      <th>toy_id</th>\n",
       "      <th>toy_name</th>\n",
       "      <th>user_name</th>\n",
       "    </tr>\n",
       "  </thead>\n",
       "  <tbody>\n",
       "    <tr>\n",
       "      <th>0</th>\n",
       "      <td>5</td>\n",
       "      <td>This had been my dog's favorite toy! She can c...</td>\n",
       "      <td>185593363</td>\n",
       "      <td>Sep 1, 2017</td>\n",
       "      <td>49703</td>\n",
       "      <td>chuckit-ultra-duo-tug-medium</td>\n",
       "      <td>Biconclavicator02</td>\n",
       "    </tr>\n",
       "    <tr>\n",
       "      <th>1</th>\n",
       "      <td>5</td>\n",
       "      <td>The Chuckit! Ultra Duo Tug dog toy is one of t...</td>\n",
       "      <td>185391236</td>\n",
       "      <td>Aug 25, 2017</td>\n",
       "      <td>49703</td>\n",
       "      <td>chuckit-ultra-duo-tug-medium</td>\n",
       "      <td>BWiedow</td>\n",
       "    </tr>\n",
       "    <tr>\n",
       "      <th>2</th>\n",
       "      <td>5</td>\n",
       "      <td>Our guy is an aggressive chewer, a regular bal...</td>\n",
       "      <td>185274730</td>\n",
       "      <td>Aug 23, 2017</td>\n",
       "      <td>49703</td>\n",
       "      <td>chuckit-ultra-duo-tug-medium</td>\n",
       "      <td>Boykinpaws</td>\n",
       "    </tr>\n",
       "    <tr>\n",
       "      <th>3</th>\n",
       "      <td>5</td>\n",
       "      <td>My goldendoodle has so much fun with this toy!...</td>\n",
       "      <td>185205962</td>\n",
       "      <td>Aug 21, 2017</td>\n",
       "      <td>49703</td>\n",
       "      <td>chuckit-ultra-duo-tug-medium</td>\n",
       "      <td>doodlemom</td>\n",
       "    </tr>\n",
       "    <tr>\n",
       "      <th>4</th>\n",
       "      <td>5</td>\n",
       "      <td>This would be great if your dogs actually play...</td>\n",
       "      <td>184725370</td>\n",
       "      <td>Aug 12, 2017</td>\n",
       "      <td>49703</td>\n",
       "      <td>chuckit-ultra-duo-tug-medium</td>\n",
       "      <td>toneemo</td>\n",
       "    </tr>\n",
       "  </tbody>\n",
       "</table>\n",
       "</div>"
      ],
      "text/plain": [
       "   rating                                     review_content  review_id  \\\n",
       "0       5  This had been my dog's favorite toy! She can c...  185593363   \n",
       "1       5  The Chuckit! Ultra Duo Tug dog toy is one of t...  185391236   \n",
       "2       5  Our guy is an aggressive chewer, a regular bal...  185274730   \n",
       "3       5  My goldendoodle has so much fun with this toy!...  185205962   \n",
       "4       5  This would be great if your dogs actually play...  184725370   \n",
       "\n",
       "    review_time  toy_id                      toy_name          user_name  \n",
       "0   Sep 1, 2017   49703  chuckit-ultra-duo-tug-medium  Biconclavicator02  \n",
       "1  Aug 25, 2017   49703  chuckit-ultra-duo-tug-medium            BWiedow  \n",
       "2  Aug 23, 2017   49703  chuckit-ultra-duo-tug-medium         Boykinpaws  \n",
       "3  Aug 21, 2017   49703  chuckit-ultra-duo-tug-medium          doodlemom  \n",
       "4  Aug 12, 2017   49703  chuckit-ultra-duo-tug-medium            toneemo  "
      ]
     },
     "execution_count": 45,
     "metadata": {},
     "output_type": "execute_result"
    }
   ],
   "source": [
    "df_temp = pd.DataFrame.from_dict(reviews)\n",
    "df_temp.head()"
   ]
  },
  {
   "cell_type": "code",
   "execution_count": 46,
   "metadata": {
    "collapsed": false
   },
   "outputs": [
    {
     "data": {
      "text/html": [
       "<div>\n",
       "<table border=\"1\" class=\"dataframe\">\n",
       "  <thead>\n",
       "    <tr style=\"text-align: right;\">\n",
       "      <th></th>\n",
       "      <th>pic_id</th>\n",
       "      <th>pic_name</th>\n",
       "      <th>pic_url</th>\n",
       "      <th>review_id</th>\n",
       "      <th>star_rating</th>\n",
       "      <th>toy_id</th>\n",
       "      <th>toy_name</th>\n",
       "    </tr>\n",
       "  </thead>\n",
       "  <tbody>\n",
       "    <tr>\n",
       "      <th>0</th>\n",
       "      <td>0090-en_us_2158051</td>\n",
       "      <td>0090-en_us_2158051_photo.jpg</td>\n",
       "      <td>http://chewy.ugc.bazaarvoice.com/0090-en_us/21...</td>\n",
       "      <td>184633626</td>\n",
       "      <td>5</td>\n",
       "      <td>49703</td>\n",
       "      <td>chuckit-ultra-duo-tug-medium</td>\n",
       "    </tr>\n",
       "    <tr>\n",
       "      <th>1</th>\n",
       "      <td>0090-en_us_934055</td>\n",
       "      <td>0090-en_us_934055_photo.jpg</td>\n",
       "      <td>http://chewy.ugc.bazaarvoice.com/0090-en_us/93...</td>\n",
       "      <td>176238149</td>\n",
       "      <td>1</td>\n",
       "      <td>49703</td>\n",
       "      <td>chuckit-ultra-duo-tug-medium</td>\n",
       "    </tr>\n",
       "    <tr>\n",
       "      <th>2</th>\n",
       "      <td>0090-en_us_737565</td>\n",
       "      <td>0090-en_us_737565_photo.jpg</td>\n",
       "      <td>https://chewy.ugc.bazaarvoice.com/0090-en_us/7...</td>\n",
       "      <td>154662590</td>\n",
       "      <td>5</td>\n",
       "      <td>49703</td>\n",
       "      <td>chuckit-ultra-duo-tug-medium</td>\n",
       "    </tr>\n",
       "  </tbody>\n",
       "</table>\n",
       "</div>"
      ],
      "text/plain": [
       "               pic_id                      pic_name  \\\n",
       "0  0090-en_us_2158051  0090-en_us_2158051_photo.jpg   \n",
       "1   0090-en_us_934055   0090-en_us_934055_photo.jpg   \n",
       "2   0090-en_us_737565   0090-en_us_737565_photo.jpg   \n",
       "\n",
       "                                             pic_url  review_id  star_rating  \\\n",
       "0  http://chewy.ugc.bazaarvoice.com/0090-en_us/21...  184633626            5   \n",
       "1  http://chewy.ugc.bazaarvoice.com/0090-en_us/93...  176238149            1   \n",
       "2  https://chewy.ugc.bazaarvoice.com/0090-en_us/7...  154662590            5   \n",
       "\n",
       "   toy_id                      toy_name  \n",
       "0   49703  chuckit-ultra-duo-tug-medium  \n",
       "1   49703  chuckit-ultra-duo-tug-medium  \n",
       "2   49703  chuckit-ultra-duo-tug-medium  "
      ]
     },
     "execution_count": 46,
     "metadata": {},
     "output_type": "execute_result"
    }
   ],
   "source": [
    "df_pic_temp = pd.DataFrame.from_dict(pics)\n",
    "df_pic_temp.tail(10)"
   ]
  },
  {
   "cell_type": "code",
   "execution_count": 51,
   "metadata": {
    "collapsed": false
   },
   "outputs": [
    {
     "name": "stdout",
     "output_type": "stream",
     "text": [
      "http://chewy.ugc.bazaarvoice.com/0090-en_us/2158051/photo.jpg\n"
     ]
    }
   ],
   "source": [
    "print df_pic_temp['pic_url'][0]"
   ]
  },
  {
   "cell_type": "code",
   "execution_count": 38,
   "metadata": {
    "collapsed": false
   },
   "outputs": [
    {
     "data": {
      "text/plain": [
       "(57, 7)"
      ]
     },
     "execution_count": 38,
     "metadata": {},
     "output_type": "execute_result"
    }
   ],
   "source": [
    "df_pic_temp.shape"
   ]
  },
  {
   "cell_type": "code",
   "execution_count": 52,
   "metadata": {
    "collapsed": false
   },
   "outputs": [
    {
     "data": {
      "text/plain": [
       "1504805900.113418"
      ]
     },
     "execution_count": 52,
     "metadata": {},
     "output_type": "execute_result"
    }
   ],
   "source": [
    "time.time()"
   ]
  },
  {
   "cell_type": "markdown",
   "metadata": {},
   "source": [
    "### test scripts - 2"
   ]
  },
  {
   "cell_type": "code",
   "execution_count": 72,
   "metadata": {
    "collapsed": false
   },
   "outputs": [
    {
     "name": "stdout",
     "output_type": "stream",
     "text": [
      "https://www.chewy.com/mammoth-cottonblend-5-knot-dog-rope/product-reviews/108574?reviewSort=NEWEST&reviewFilter=ALL_STARS&pageNumber=6\n",
      "save reviews till record reviews-test11-1.csv\n",
      "save reviews till record reviews-test11-2.csv\n",
      "save reviews till record reviews-test11-3.csv\n",
      "save reviews till record reviews-test11-4.csv\n",
      "save pictures till record pictures-test11-4.csv\n"
     ]
    }
   ],
   "source": [
    "save_code = \"test11\"\n",
    "df_test = get_df(5)\n",
    "fetch_and_store_reviews(df_test, save_code)"
   ]
  },
  {
   "cell_type": "code",
   "execution_count": 60,
   "metadata": {
    "collapsed": false
   },
   "outputs": [],
   "source": [
    "df_temp_1 = pd.read_csv(\"s3://dogfaces/reviews/reviewstest11-1.csv\")\n",
    "df_temp_2 = pd.read_csv(\"s3://dogfaces/reviews/reviewstest11-2.csv\")"
   ]
  },
  {
   "cell_type": "code",
   "execution_count": 61,
   "metadata": {
    "collapsed": false
   },
   "outputs": [
    {
     "data": {
      "text/html": [
       "<div>\n",
       "<table border=\"1\" class=\"dataframe\">\n",
       "  <thead>\n",
       "    <tr style=\"text-align: right;\">\n",
       "      <th></th>\n",
       "      <th>rating</th>\n",
       "      <th>review_content</th>\n",
       "      <th>review_id</th>\n",
       "      <th>review_time</th>\n",
       "      <th>toy_id</th>\n",
       "      <th>toy_name</th>\n",
       "      <th>user_name</th>\n",
       "    </tr>\n",
       "  </thead>\n",
       "  <tbody>\n",
       "    <tr>\n",
       "      <th>795</th>\n",
       "      <td>4</td>\n",
       "      <td>Just a tennis ball, but with the best sounding...</td>\n",
       "      <td>47666158</td>\n",
       "      <td>Dec 16, 2013</td>\n",
       "      <td>47728</td>\n",
       "      <td>kong-airdog-squeakair-ball-dog-toy</td>\n",
       "      <td>sanderli22</td>\n",
       "    </tr>\n",
       "    <tr>\n",
       "      <th>796</th>\n",
       "      <td>5</td>\n",
       "      <td>I have a 2 yr old Sable German Shepherd who ju...</td>\n",
       "      <td>31371648</td>\n",
       "      <td>Nov 26, 2013</td>\n",
       "      <td>47728</td>\n",
       "      <td>kong-airdog-squeakair-ball-dog-toy</td>\n",
       "      <td>Jerry82</td>\n",
       "    </tr>\n",
       "    <tr>\n",
       "      <th>797</th>\n",
       "      <td>5</td>\n",
       "      <td>My labradoodle loves playing fetch but fetch i...</td>\n",
       "      <td>27588417</td>\n",
       "      <td>Oct 21, 2013</td>\n",
       "      <td>47728</td>\n",
       "      <td>kong-airdog-squeakair-ball-dog-toy</td>\n",
       "      <td>amyb3</td>\n",
       "    </tr>\n",
       "    <tr>\n",
       "      <th>798</th>\n",
       "      <td>5</td>\n",
       "      <td>I have a 136lb monster English Mastiff that to...</td>\n",
       "      <td>27454034</td>\n",
       "      <td>Oct 15, 2013</td>\n",
       "      <td>47728</td>\n",
       "      <td>kong-airdog-squeakair-ball-dog-toy</td>\n",
       "      <td>Fiona1</td>\n",
       "    </tr>\n",
       "    <tr>\n",
       "      <th>799</th>\n",
       "      <td>5</td>\n",
       "      <td>This is ingenious;if you have a dog that loves...</td>\n",
       "      <td>22831354</td>\n",
       "      <td>Aug 14, 2013</td>\n",
       "      <td>47728</td>\n",
       "      <td>kong-airdog-squeakair-ball-dog-toy</td>\n",
       "      <td>katbat</td>\n",
       "    </tr>\n",
       "  </tbody>\n",
       "</table>\n",
       "</div>"
      ],
      "text/plain": [
       "     rating                                     review_content  review_id  \\\n",
       "795       4  Just a tennis ball, but with the best sounding...   47666158   \n",
       "796       5  I have a 2 yr old Sable German Shepherd who ju...   31371648   \n",
       "797       5  My labradoodle loves playing fetch but fetch i...   27588417   \n",
       "798       5  I have a 136lb monster English Mastiff that to...   27454034   \n",
       "799       5  This is ingenious;if you have a dog that loves...   22831354   \n",
       "\n",
       "      review_time  toy_id                            toy_name   user_name  \n",
       "795  Dec 16, 2013   47728  kong-airdog-squeakair-ball-dog-toy  sanderli22  \n",
       "796  Nov 26, 2013   47728  kong-airdog-squeakair-ball-dog-toy     Jerry82  \n",
       "797  Oct 21, 2013   47728  kong-airdog-squeakair-ball-dog-toy       amyb3  \n",
       "798  Oct 15, 2013   47728  kong-airdog-squeakair-ball-dog-toy      Fiona1  \n",
       "799  Aug 14, 2013   47728  kong-airdog-squeakair-ball-dog-toy      katbat  "
      ]
     },
     "execution_count": 61,
     "metadata": {},
     "output_type": "execute_result"
    }
   ],
   "source": [
    "df_temp_1.tail()"
   ]
  },
  {
   "cell_type": "code",
   "execution_count": 67,
   "metadata": {
    "collapsed": false
   },
   "outputs": [
    {
     "data": {
      "text/html": [
       "<div>\n",
       "<table border=\"1\" class=\"dataframe\">\n",
       "  <thead>\n",
       "    <tr style=\"text-align: right;\">\n",
       "      <th></th>\n",
       "      <th>rating</th>\n",
       "      <th>review_content</th>\n",
       "      <th>review_id</th>\n",
       "      <th>review_time</th>\n",
       "      <th>toy_id</th>\n",
       "      <th>toy_name</th>\n",
       "      <th>user_name</th>\n",
       "    </tr>\n",
       "  </thead>\n",
       "  <tbody>\n",
       "    <tr>\n",
       "      <th>0</th>\n",
       "      <td>5</td>\n",
       "      <td>My 9wk gsd loves to play tug. This is a very d...</td>\n",
       "      <td>185768998</td>\n",
       "      <td>Sep 6, 2017</td>\n",
       "      <td>108582</td>\n",
       "      <td>mammoth-monkey-fist-bar-dog-toy</td>\n",
       "      <td>Heatherlg</td>\n",
       "    </tr>\n",
       "    <tr>\n",
       "      <th>1</th>\n",
       "      <td>4</td>\n",
       "      <td>My little guy just loves this toy &amp; as small a...</td>\n",
       "      <td>185768070</td>\n",
       "      <td>Sep 6, 2017</td>\n",
       "      <td>108582</td>\n",
       "      <td>mammoth-monkey-fist-bar-dog-toy</td>\n",
       "      <td>Homestager123</td>\n",
       "    </tr>\n",
       "    <tr>\n",
       "      <th>2</th>\n",
       "      <td>1</td>\n",
       "      <td>The mammoth Monkey Fist Dog Toy was a mammoth ...</td>\n",
       "      <td>185710474</td>\n",
       "      <td>Sep 4, 2017</td>\n",
       "      <td>108582</td>\n",
       "      <td>mammoth-monkey-fist-bar-dog-toy</td>\n",
       "      <td>Miles</td>\n",
       "    </tr>\n",
       "    <tr>\n",
       "      <th>3</th>\n",
       "      <td>2</td>\n",
       "      <td>I bought this rope thinking my 2 year old terr...</td>\n",
       "      <td>185706783</td>\n",
       "      <td>Sep 4, 2017</td>\n",
       "      <td>108582</td>\n",
       "      <td>mammoth-monkey-fist-bar-dog-toy</td>\n",
       "      <td>AL13</td>\n",
       "    </tr>\n",
       "    <tr>\n",
       "      <th>4</th>\n",
       "      <td>1</td>\n",
       "      <td>I usually buy another rope that's sold on this...</td>\n",
       "      <td>185588816</td>\n",
       "      <td>Sep 1, 2017</td>\n",
       "      <td>108582</td>\n",
       "      <td>mammoth-monkey-fist-bar-dog-toy</td>\n",
       "      <td>Gggg</td>\n",
       "    </tr>\n",
       "  </tbody>\n",
       "</table>\n",
       "</div>"
      ],
      "text/plain": [
       "   rating                                     review_content  review_id  \\\n",
       "0       5  My 9wk gsd loves to play tug. This is a very d...  185768998   \n",
       "1       4  My little guy just loves this toy & as small a...  185768070   \n",
       "2       1  The mammoth Monkey Fist Dog Toy was a mammoth ...  185710474   \n",
       "3       2  I bought this rope thinking my 2 year old terr...  185706783   \n",
       "4       1  I usually buy another rope that's sold on this...  185588816   \n",
       "\n",
       "   review_time  toy_id                         toy_name      user_name  \n",
       "0  Sep 6, 2017  108582  mammoth-monkey-fist-bar-dog-toy      Heatherlg  \n",
       "1  Sep 6, 2017  108582  mammoth-monkey-fist-bar-dog-toy  Homestager123  \n",
       "2  Sep 4, 2017  108582  mammoth-monkey-fist-bar-dog-toy          Miles  \n",
       "3  Sep 4, 2017  108582  mammoth-monkey-fist-bar-dog-toy           AL13  \n",
       "4  Sep 1, 2017  108582  mammoth-monkey-fist-bar-dog-toy           Gggg  "
      ]
     },
     "execution_count": 67,
     "metadata": {},
     "output_type": "execute_result"
    }
   ],
   "source": [
    "df_temp_2.head()"
   ]
  },
  {
   "cell_type": "code",
   "execution_count": 65,
   "metadata": {
    "collapsed": false
   },
   "outputs": [
    {
     "data": {
      "text/plain": [
       "(129, 7)"
      ]
     },
     "execution_count": 65,
     "metadata": {},
     "output_type": "execute_result"
    }
   ],
   "source": [
    "df_temp_2.shape"
   ]
  },
  {
   "cell_type": "code",
   "execution_count": 69,
   "metadata": {
    "collapsed": true
   },
   "outputs": [],
   "source": [
    "df_temp_3 = pd.read_csv(\"s3://dogfaces/reviews/picturestest11-1.csv\")"
   ]
  },
  {
   "cell_type": "code",
   "execution_count": 70,
   "metadata": {
    "collapsed": false
   },
   "outputs": [
    {
     "data": {
      "text/html": [
       "<div>\n",
       "<table border=\"1\" class=\"dataframe\">\n",
       "  <thead>\n",
       "    <tr style=\"text-align: right;\">\n",
       "      <th></th>\n",
       "      <th>pic_id</th>\n",
       "      <th>pic_name</th>\n",
       "      <th>pic_url</th>\n",
       "      <th>review_id</th>\n",
       "      <th>star_rating</th>\n",
       "      <th>toy_id</th>\n",
       "      <th>toy_name</th>\n",
       "    </tr>\n",
       "  </thead>\n",
       "  <tbody>\n",
       "    <tr>\n",
       "      <th>0</th>\n",
       "      <td>0090-en_us_1900789</td>\n",
       "      <td>0090-en_us_1900789_photo.jpg</td>\n",
       "      <td>http://chewy.ugc.bazaarvoice.com/0090-en_us/19...</td>\n",
       "      <td>183743685</td>\n",
       "      <td>5</td>\n",
       "      <td>47728</td>\n",
       "      <td>kong-airdog-squeakair-ball-dog-toy</td>\n",
       "    </tr>\n",
       "    <tr>\n",
       "      <th>1</th>\n",
       "      <td>0090-en_us_1837760</td>\n",
       "      <td>0090-en_us_1837760_photo.jpg</td>\n",
       "      <td>http://chewy.ugc.bazaarvoice.com/0090-en_us/18...</td>\n",
       "      <td>183352427</td>\n",
       "      <td>5</td>\n",
       "      <td>47728</td>\n",
       "      <td>kong-airdog-squeakair-ball-dog-toy</td>\n",
       "    </tr>\n",
       "    <tr>\n",
       "      <th>2</th>\n",
       "      <td>0090-en_us_1784514</td>\n",
       "      <td>0090-en_us_1784514_photo.jpg</td>\n",
       "      <td>http://chewy.ugc.bazaarvoice.com/0090-en_us/17...</td>\n",
       "      <td>183257510</td>\n",
       "      <td>3</td>\n",
       "      <td>47728</td>\n",
       "      <td>kong-airdog-squeakair-ball-dog-toy</td>\n",
       "    </tr>\n",
       "    <tr>\n",
       "      <th>3</th>\n",
       "      <td>0090-en_us_1640237</td>\n",
       "      <td>0090-en_us_1640237_photo.jpg</td>\n",
       "      <td>http://chewy.ugc.bazaarvoice.com/0090-en_us/16...</td>\n",
       "      <td>182874927</td>\n",
       "      <td>5</td>\n",
       "      <td>47728</td>\n",
       "      <td>kong-airdog-squeakair-ball-dog-toy</td>\n",
       "    </tr>\n",
       "    <tr>\n",
       "      <th>4</th>\n",
       "      <td>0090-en_us_1640174</td>\n",
       "      <td>0090-en_us_1640174_photo.jpg</td>\n",
       "      <td>http://chewy.ugc.bazaarvoice.com/0090-en_us/16...</td>\n",
       "      <td>182871999</td>\n",
       "      <td>5</td>\n",
       "      <td>47728</td>\n",
       "      <td>kong-airdog-squeakair-ball-dog-toy</td>\n",
       "    </tr>\n",
       "  </tbody>\n",
       "</table>\n",
       "</div>"
      ],
      "text/plain": [
       "               pic_id                      pic_name  \\\n",
       "0  0090-en_us_1900789  0090-en_us_1900789_photo.jpg   \n",
       "1  0090-en_us_1837760  0090-en_us_1837760_photo.jpg   \n",
       "2  0090-en_us_1784514  0090-en_us_1784514_photo.jpg   \n",
       "3  0090-en_us_1640237  0090-en_us_1640237_photo.jpg   \n",
       "4  0090-en_us_1640174  0090-en_us_1640174_photo.jpg   \n",
       "\n",
       "                                             pic_url  review_id  star_rating  \\\n",
       "0  http://chewy.ugc.bazaarvoice.com/0090-en_us/19...  183743685            5   \n",
       "1  http://chewy.ugc.bazaarvoice.com/0090-en_us/18...  183352427            5   \n",
       "2  http://chewy.ugc.bazaarvoice.com/0090-en_us/17...  183257510            3   \n",
       "3  http://chewy.ugc.bazaarvoice.com/0090-en_us/16...  182874927            5   \n",
       "4  http://chewy.ugc.bazaarvoice.com/0090-en_us/16...  182871999            5   \n",
       "\n",
       "   toy_id                            toy_name  \n",
       "0   47728  kong-airdog-squeakair-ball-dog-toy  \n",
       "1   47728  kong-airdog-squeakair-ball-dog-toy  \n",
       "2   47728  kong-airdog-squeakair-ball-dog-toy  \n",
       "3   47728  kong-airdog-squeakair-ball-dog-toy  \n",
       "4   47728  kong-airdog-squeakair-ball-dog-toy  "
      ]
     },
     "execution_count": 70,
     "metadata": {},
     "output_type": "execute_result"
    }
   ],
   "source": [
    "df_temp_3.head()"
   ]
  },
  {
   "cell_type": "code",
   "execution_count": 78,
   "metadata": {
    "collapsed": false
   },
   "outputs": [
    {
     "data": {
      "text/plain": [
       "(1577, 7)"
      ]
     },
     "execution_count": 78,
     "metadata": {},
     "output_type": "execute_result"
    }
   ],
   "source": [
    "df_test_5 = pd.read_csv(\"s3://dogfaces/reviews/reviews-1504809136_cat5-final-.csv\")\n",
    "df_test_5.shape"
   ]
  },
  {
   "cell_type": "code",
   "execution_count": 79,
   "metadata": {
    "collapsed": false
   },
   "outputs": [
    {
     "data": {
      "text/html": [
       "<div>\n",
       "<table border=\"1\" class=\"dataframe\">\n",
       "  <thead>\n",
       "    <tr style=\"text-align: right;\">\n",
       "      <th></th>\n",
       "      <th>rating</th>\n",
       "      <th>review_content</th>\n",
       "      <th>review_id</th>\n",
       "      <th>review_time</th>\n",
       "      <th>toy_id</th>\n",
       "      <th>toy_name</th>\n",
       "      <th>user_name</th>\n",
       "    </tr>\n",
       "  </thead>\n",
       "  <tbody>\n",
       "    <tr>\n",
       "      <th>0</th>\n",
       "      <td>5</td>\n",
       "      <td>My Fur Baby loves his Rope pull toy. I brings ...</td>\n",
       "      <td>185682550</td>\n",
       "      <td>Sep 4, 2017</td>\n",
       "      <td>108574</td>\n",
       "      <td>mammoth-cottonblend-5-knot-dog-rope</td>\n",
       "      <td>Gunnerfavorite</td>\n",
       "    </tr>\n",
       "    <tr>\n",
       "      <th>1</th>\n",
       "      <td>5</td>\n",
       "      <td>We love this toy. I got the largest size for m...</td>\n",
       "      <td>185591533</td>\n",
       "      <td>Sep 1, 2017</td>\n",
       "      <td>108574</td>\n",
       "      <td>mammoth-cottonblend-5-knot-dog-rope</td>\n",
       "      <td>Lindsay</td>\n",
       "    </tr>\n",
       "    <tr>\n",
       "      <th>2</th>\n",
       "      <td>4</td>\n",
       "      <td>this was a good product but not for very stron...</td>\n",
       "      <td>185522967</td>\n",
       "      <td>Aug 29, 2017</td>\n",
       "      <td>108574</td>\n",
       "      <td>mammoth-cottonblend-5-knot-dog-rope</td>\n",
       "      <td>bcodpas3</td>\n",
       "    </tr>\n",
       "    <tr>\n",
       "      <th>3</th>\n",
       "      <td>5</td>\n",
       "      <td>The dogs aren't big chewers so the rope is hol...</td>\n",
       "      <td>185487336</td>\n",
       "      <td>Aug 28, 2017</td>\n",
       "      <td>108574</td>\n",
       "      <td>mammoth-cottonblend-5-knot-dog-rope</td>\n",
       "      <td>SickPup</td>\n",
       "    </tr>\n",
       "    <tr>\n",
       "      <th>4</th>\n",
       "      <td>5</td>\n",
       "      <td>My Aussies love this rope. It's long enough th...</td>\n",
       "      <td>185484167</td>\n",
       "      <td>Aug 28, 2017</td>\n",
       "      <td>108574</td>\n",
       "      <td>mammoth-cottonblend-5-knot-dog-rope</td>\n",
       "      <td>AussieMom</td>\n",
       "    </tr>\n",
       "  </tbody>\n",
       "</table>\n",
       "</div>"
      ],
      "text/plain": [
       "   rating                                     review_content  review_id  \\\n",
       "0       5  My Fur Baby loves his Rope pull toy. I brings ...  185682550   \n",
       "1       5  We love this toy. I got the largest size for m...  185591533   \n",
       "2       4  this was a good product but not for very stron...  185522967   \n",
       "3       5  The dogs aren't big chewers so the rope is hol...  185487336   \n",
       "4       5  My Aussies love this rope. It's long enough th...  185484167   \n",
       "\n",
       "    review_time  toy_id                             toy_name       user_name  \n",
       "0   Sep 4, 2017  108574  mammoth-cottonblend-5-knot-dog-rope  Gunnerfavorite  \n",
       "1   Sep 1, 2017  108574  mammoth-cottonblend-5-knot-dog-rope         Lindsay  \n",
       "2  Aug 29, 2017  108574  mammoth-cottonblend-5-knot-dog-rope        bcodpas3  \n",
       "3  Aug 28, 2017  108574  mammoth-cottonblend-5-knot-dog-rope         SickPup  \n",
       "4  Aug 28, 2017  108574  mammoth-cottonblend-5-knot-dog-rope       AussieMom  "
      ]
     },
     "execution_count": 79,
     "metadata": {},
     "output_type": "execute_result"
    }
   ],
   "source": [
    "df_test_5.head()"
   ]
  },
  {
   "cell_type": "code",
   "execution_count": 75,
   "metadata": {
    "collapsed": false
   },
   "outputs": [
    {
     "data": {
      "text/plain": [
       "1576"
      ]
     },
     "execution_count": 75,
     "metadata": {},
     "output_type": "execute_result"
    }
   ],
   "source": [
    "sum(df_test.num_reviews.values)"
   ]
  },
  {
   "cell_type": "code",
   "execution_count": null,
   "metadata": {
    "collapsed": true
   },
   "outputs": [],
   "source": []
  }
 ],
 "metadata": {
  "anaconda-cloud": {},
  "kernelspec": {
   "display_name": "Python [conda root]",
   "language": "python",
   "name": "conda-root-py"
  },
  "language_info": {
   "codemirror_mode": {
    "name": "ipython",
    "version": 2
   },
   "file_extension": ".py",
   "mimetype": "text/x-python",
   "name": "python",
   "nbconvert_exporter": "python",
   "pygments_lexer": "ipython2",
   "version": "2.7.13"
  }
 },
 "nbformat": 4,
 "nbformat_minor": 2
}
