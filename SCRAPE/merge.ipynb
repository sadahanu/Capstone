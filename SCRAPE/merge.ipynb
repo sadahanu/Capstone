{
 "cells": [
  {
   "cell_type": "code",
   "execution_count": 1,
   "metadata": {
    "collapsed": true
   },
   "outputs": [],
   "source": [
    "import pandas as pd\n",
    "import boto3"
   ]
  },
  {
   "cell_type": "code",
   "execution_count": 3,
   "metadata": {
    "collapsed": true
   },
   "outputs": [],
   "source": [
    "s3 = boto3.client(\"s3\")"
   ]
  },
  {
   "cell_type": "markdown",
   "metadata": {},
   "source": [
    "### Gather all reviews"
   ]
  },
  {
   "cell_type": "code",
   "execution_count": 19,
   "metadata": {
    "collapsed": false
   },
   "outputs": [],
   "source": [
    "paginator = s3.get_paginator('list_objects_v2')\n",
    "page_iterator = paginator.paginate(Bucket = 'dogfaces', Prefix = 'reviews/inter_reviews/reviews-')"
   ]
  },
  {
   "cell_type": "code",
   "execution_count": 20,
   "metadata": {
    "collapsed": false
   },
   "outputs": [],
   "source": [
    "resdf = pd.DataFrame()\n",
    "for page in page_iterator:\n",
    "    for dfs in page['Contents']:\n",
    "        df_path = \"s3://dogfaces/\"+dfs['Key']\n",
    "        temp_df = pd.read_csv(df_path)\n",
    "        resdf = pd.concat([resdf, temp_df], axis=0)"
   ]
  },
  {
   "cell_type": "code",
   "execution_count": 24,
   "metadata": {
    "collapsed": false
   },
   "outputs": [
    {
     "data": {
      "text/plain": [
       "(61202, 7)"
      ]
     },
     "execution_count": 24,
     "metadata": {},
     "output_type": "execute_result"
    }
   ],
   "source": [
    "resdf.shape"
   ]
  },
  {
   "cell_type": "code",
   "execution_count": 22,
   "metadata": {
    "collapsed": false
   },
   "outputs": [
    {
     "data": {
      "text/html": [
       "<div>\n",
       "<table border=\"1\" class=\"dataframe\">\n",
       "  <thead>\n",
       "    <tr style=\"text-align: right;\">\n",
       "      <th></th>\n",
       "      <th>rating</th>\n",
       "      <th>review_content</th>\n",
       "      <th>review_id</th>\n",
       "      <th>review_time</th>\n",
       "      <th>toy_id</th>\n",
       "      <th>toy_name</th>\n",
       "      <th>user_name</th>\n",
       "    </tr>\n",
       "  </thead>\n",
       "  <tbody>\n",
       "    <tr>\n",
       "      <th>0</th>\n",
       "      <td>5</td>\n",
       "      <td>My Fur Baby loves his Rope pull toy. I brings ...</td>\n",
       "      <td>185682550</td>\n",
       "      <td>Sep 4, 2017</td>\n",
       "      <td>108574</td>\n",
       "      <td>mammoth-cottonblend-5-knot-dog-rope</td>\n",
       "      <td>Gunnerfavorite</td>\n",
       "    </tr>\n",
       "    <tr>\n",
       "      <th>1</th>\n",
       "      <td>5</td>\n",
       "      <td>We love this toy. I got the largest size for m...</td>\n",
       "      <td>185591533</td>\n",
       "      <td>Sep 1, 2017</td>\n",
       "      <td>108574</td>\n",
       "      <td>mammoth-cottonblend-5-knot-dog-rope</td>\n",
       "      <td>Lindsay</td>\n",
       "    </tr>\n",
       "    <tr>\n",
       "      <th>2</th>\n",
       "      <td>4</td>\n",
       "      <td>this was a good product but not for very stron...</td>\n",
       "      <td>185522967</td>\n",
       "      <td>Aug 29, 2017</td>\n",
       "      <td>108574</td>\n",
       "      <td>mammoth-cottonblend-5-knot-dog-rope</td>\n",
       "      <td>bcodpas3</td>\n",
       "    </tr>\n",
       "    <tr>\n",
       "      <th>3</th>\n",
       "      <td>5</td>\n",
       "      <td>The dogs aren't big chewers so the rope is hol...</td>\n",
       "      <td>185487336</td>\n",
       "      <td>Aug 28, 2017</td>\n",
       "      <td>108574</td>\n",
       "      <td>mammoth-cottonblend-5-knot-dog-rope</td>\n",
       "      <td>SickPup</td>\n",
       "    </tr>\n",
       "    <tr>\n",
       "      <th>4</th>\n",
       "      <td>5</td>\n",
       "      <td>My Aussies love this rope. It's long enough th...</td>\n",
       "      <td>185484167</td>\n",
       "      <td>Aug 28, 2017</td>\n",
       "      <td>108574</td>\n",
       "      <td>mammoth-cottonblend-5-knot-dog-rope</td>\n",
       "      <td>AussieMom</td>\n",
       "    </tr>\n",
       "  </tbody>\n",
       "</table>\n",
       "</div>"
      ],
      "text/plain": [
       "   rating                                     review_content  review_id  \\\n",
       "0       5  My Fur Baby loves his Rope pull toy. I brings ...  185682550   \n",
       "1       5  We love this toy. I got the largest size for m...  185591533   \n",
       "2       4  this was a good product but not for very stron...  185522967   \n",
       "3       5  The dogs aren't big chewers so the rope is hol...  185487336   \n",
       "4       5  My Aussies love this rope. It's long enough th...  185484167   \n",
       "\n",
       "    review_time  toy_id                             toy_name       user_name  \n",
       "0   Sep 4, 2017  108574  mammoth-cottonblend-5-knot-dog-rope  Gunnerfavorite  \n",
       "1   Sep 1, 2017  108574  mammoth-cottonblend-5-knot-dog-rope         Lindsay  \n",
       "2  Aug 29, 2017  108574  mammoth-cottonblend-5-knot-dog-rope        bcodpas3  \n",
       "3  Aug 28, 2017  108574  mammoth-cottonblend-5-knot-dog-rope         SickPup  \n",
       "4  Aug 28, 2017  108574  mammoth-cottonblend-5-knot-dog-rope       AussieMom  "
      ]
     },
     "execution_count": 22,
     "metadata": {},
     "output_type": "execute_result"
    }
   ],
   "source": [
    "resdf.head()"
   ]
  },
  {
   "cell_type": "code",
   "execution_count": 23,
   "metadata": {
    "collapsed": false
   },
   "outputs": [
    {
     "data": {
      "text/plain": [
       "Index([u'rating', u'review_content', u'review_id', u'review_time', u'toy_id',\n",
       "       u'toy_name', u'user_name'],\n",
       "      dtype='object')"
      ]
     },
     "execution_count": 23,
     "metadata": {},
     "output_type": "execute_result"
    }
   ],
   "source": [
    "resdf.columns"
   ]
  },
  {
   "cell_type": "code",
   "execution_count": 25,
   "metadata": {
    "collapsed": false
   },
   "outputs": [
    {
     "data": {
      "text/plain": [
       "s3.Object(bucket_name='dogfaces', key='reviews/reviews.csv')"
      ]
     },
     "execution_count": 25,
     "metadata": {},
     "output_type": "execute_result"
    }
   ],
   "source": [
    "review_df = resdf.to_csv(index=False)\n",
    "s3_res = boto3.resource('s3')\n",
    "s3_res.Bucket('dogfaces').put_object(Key='reviews/reviews.csv', Body=review_df)"
   ]
  },
  {
   "cell_type": "markdown",
   "metadata": {},
   "source": [
    "### Gather all pictures"
   ]
  },
  {
   "cell_type": "code",
   "execution_count": 26,
   "metadata": {
    "collapsed": true
   },
   "outputs": [],
   "source": [
    "paginator = s3.get_paginator('list_objects_v2')\n",
    "page_iterator = paginator.paginate(Bucket = 'dogfaces', Prefix = 'reviews/inter_reviews/pictures-')"
   ]
  },
  {
   "cell_type": "code",
   "execution_count": 28,
   "metadata": {
    "collapsed": false
   },
   "outputs": [],
   "source": [
    "resdf = pd.DataFrame()\n",
    "for page in page_iterator:\n",
    "    for dfs in page['Contents']:\n",
    "        df_path = \"s3://dogfaces/\"+dfs['Key']\n",
    "        temp_df = pd.read_csv(df_path)\n",
    "        resdf = pd.concat([resdf, temp_df], axis=0)"
   ]
  },
  {
   "cell_type": "code",
   "execution_count": 29,
   "metadata": {
    "collapsed": false
   },
   "outputs": [
    {
     "data": {
      "text/plain": [
       "(2619, 7)"
      ]
     },
     "execution_count": 29,
     "metadata": {},
     "output_type": "execute_result"
    }
   ],
   "source": [
    "resdf.shape"
   ]
  },
  {
   "cell_type": "code",
   "execution_count": 31,
   "metadata": {
    "collapsed": false
   },
   "outputs": [
    {
     "data": {
      "text/plain": [
       "s3.Object(bucket_name='dogfaces', key='reviews/pictures_log.csv')"
      ]
     },
     "execution_count": 31,
     "metadata": {},
     "output_type": "execute_result"
    }
   ],
   "source": [
    "pic_df = resdf.to_csv(index=False)\n",
    "s3_res = boto3.resource('s3')\n",
    "s3_res.Bucket('dogfaces').put_object(Key='reviews/pictures_log.csv', Body=pic_df)"
   ]
  },
  {
   "cell_type": "code",
   "execution_count": null,
   "metadata": {
    "collapsed": true
   },
   "outputs": [],
   "source": []
  }
 ],
 "metadata": {
  "kernelspec": {
   "display_name": "Python [conda root]",
   "language": "python",
   "name": "conda-root-py"
  },
  "language_info": {
   "codemirror_mode": {
    "name": "ipython",
    "version": 2
   },
   "file_extension": ".py",
   "mimetype": "text/x-python",
   "name": "python",
   "nbconvert_exporter": "python",
   "pygments_lexer": "ipython2",
   "version": "2.7.13"
  }
 },
 "nbformat": 4,
 "nbformat_minor": 2
}
