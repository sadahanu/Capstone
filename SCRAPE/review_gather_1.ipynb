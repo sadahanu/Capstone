{
 "cells": [
  {
   "cell_type": "code",
   "execution_count": 1,
   "metadata": {
    "collapsed": true
   },
   "outputs": [],
   "source": [
    "import pandas as pd\n",
    "import matplotlib.pyplot as plt\n",
    "import boto3\n",
    "import requests\n",
    "from bs4 import BeautifulSoup\n",
    "from collections import defaultdict\n",
    "import re\n",
    "%matplotlib inline"
   ]
  },
  {
   "cell_type": "markdown",
   "metadata": {},
   "source": [
    "__Data base structures at chewy.com__  \n",
    "\n",
    "categories:\n",
    "\n",
    "|cat id|category | link| page range| \n",
    "|:-|:--------|:---:|:----------|\n",
    "|1|Balls and Fetch Toys| https://www.chewy.com/s?rh=c%3A288%2Cc%3A315%2Cc%3A317 | 19|\n",
    "|2|Chew Toys|https://www.chewy.com/s?rh=c%3A288%2Cc%3A315%2Cc%3A316 | 15|\n",
    "|3|Plush Toys|https://www.chewy.com/s?rh=c%3A288%2Cc%3A315%2Cc%3A320 | 17|\n",
    "|4|Interactive Toys|https://www.chewy.com/s?rh=c%3A288%2Cc%3A315%2Cc%3A319 |8|\n",
    "|5|Rope and Tug | https://www.chewy.com/s?rh=c%3A288%2Cc%3A315%2Cc%3A321 |9|\n",
    "\n",
    "  \n",
    "  \n",
    "for chewy.com the toy page is: catepage + '&page=?'\n",
    "  \n",
    "for each toy, build a __toy table__:   \n",
    "toys:  \n",
    "\n",
    "|toyid |name | link| catid | picture_link|price |reviews|review_link|review_page_num|\n",
    "|:-----|:----|:----|:------|:------------|:-----|:------|:----------|:--------------|\n",
    "|114660|usa-bones-chews-cotton-rope-bones|https://www.chewy.com/usa-bones-chews-cotton-rope-bones/dp/114660 |5| https://img.chewy.com/is/catalog/86885_MAIN._AC_SL400_V1477926797_.jpg |5.69|568|/usa-bones-chews-cotton-rope-bones/product-reviews/114660?reviewSort=NEWEST&reviewFilter=ALL_STARS&pageNumber=1|58|\n",
    "\n",
    "\n",
    "also build a __review table__:  \n",
    "\n",
    "|reviewid|toyid|toy_name | user_name| stars| review_text| time| image|image_id| useful|\n",
    "|:-------|:----|:--------|:---------|:------|:-----------|:----|:---------|:------|:---|\n",
    "|9809823|114660|usa-bones-chews-cotton-rope-bones|Steffy|5|We have...|Sep2, 2017|http://chewy.ugc.bazaarvoice.com/0090-en_us/2540529/photo.jpg |0090-en_us_2540529| 0 |\n",
    "\n",
    "also build a __image table__:  \n",
    "\n",
    "|image_id|image_link|image_name|\n",
    "|:-------|:---------|:---------|\n",
    "|0090-en_us_254052|http://chewy.ugc.bazaarvoice.com/0090-en_us/2540529/photo.jpg | 0090-en_us_254052.jpg|\n"
   ]
  },
  {
   "cell_type": "code",
   "execution_count": 2,
   "metadata": {
    "collapsed": true
   },
   "outputs": [],
   "source": [
    "# create the category data frame\n",
    "cat_id = [1,2,3,4,5]\n",
    "category = ['Balls and Fetch Toys','Chew Toys','Plush Toys','Interactive Toys','Rope and Tug']\n",
    "link = ['https://www.chewy.com/s?rh=c%3A288%2Cc%3A315%2Cc%3A317','https://www.chewy.com/s?rh=c%3A288%2Cc%3A315%2Cc%3A316',\n",
    "       'https://www.chewy.com/s?rh=c%3A288%2Cc%3A315%2Cc%3A320','https://www.chewy.com/s?rh=c%3A288%2Cc%3A315%2Cc%3A319',\n",
    "       'https://www.chewy.com/s?rh=c%3A288%2Cc%3A315%2Cc%3A321']\n",
    "pagerange = [19,15,17,8,9]\n",
    "df_cat = pd.DataFrame({'cat_id':cat_id,'category':category,'link':link,'page range':pagerange})"
   ]
  },
  {
   "cell_type": "code",
   "execution_count": 8,
   "metadata": {
    "collapsed": false
   },
   "outputs": [
    {
     "data": {
      "text/plain": [
       "s3.Object(bucket_name='dogfaces', key='reviews/category.csv')"
      ]
     },
     "execution_count": 8,
     "metadata": {},
     "output_type": "execute_result"
    }
   ],
   "source": [
    "df_data = df_cat.to_csv(index=False)\n",
    "s3_res = boto3.resource('s3')\n",
    "s3_res.Bucket('dogfaces').put_object(Key='reviews/category.csv', Body=df_data)"
   ]
  },
  {
   "cell_type": "code",
   "execution_count": 124,
   "metadata": {
    "collapsed": false
   },
   "outputs": [
    {
     "data": {
      "text/html": [
       "<div>\n",
       "<table border=\"1\" class=\"dataframe\">\n",
       "  <thead>\n",
       "    <tr style=\"text-align: right;\">\n",
       "      <th></th>\n",
       "      <th>cat_id</th>\n",
       "      <th>category</th>\n",
       "      <th>link</th>\n",
       "      <th>page range</th>\n",
       "    </tr>\n",
       "  </thead>\n",
       "  <tbody>\n",
       "    <tr>\n",
       "      <th>0</th>\n",
       "      <td>1</td>\n",
       "      <td>Balls and Fetch Toys</td>\n",
       "      <td>https://www.chewy.com/s?rh=c%3A288%2Cc%3A315%2...</td>\n",
       "      <td>19</td>\n",
       "    </tr>\n",
       "    <tr>\n",
       "      <th>1</th>\n",
       "      <td>2</td>\n",
       "      <td>Chew Toys</td>\n",
       "      <td>https://www.chewy.com/s?rh=c%3A288%2Cc%3A315%2...</td>\n",
       "      <td>15</td>\n",
       "    </tr>\n",
       "    <tr>\n",
       "      <th>2</th>\n",
       "      <td>3</td>\n",
       "      <td>Plush Toys</td>\n",
       "      <td>https://www.chewy.com/s?rh=c%3A288%2Cc%3A315%2...</td>\n",
       "      <td>17</td>\n",
       "    </tr>\n",
       "    <tr>\n",
       "      <th>3</th>\n",
       "      <td>4</td>\n",
       "      <td>Interactive Toys</td>\n",
       "      <td>https://www.chewy.com/s?rh=c%3A288%2Cc%3A315%2...</td>\n",
       "      <td>8</td>\n",
       "    </tr>\n",
       "    <tr>\n",
       "      <th>4</th>\n",
       "      <td>5</td>\n",
       "      <td>Rope and Tug</td>\n",
       "      <td>https://www.chewy.com/s?rh=c%3A288%2Cc%3A315%2...</td>\n",
       "      <td>9</td>\n",
       "    </tr>\n",
       "  </tbody>\n",
       "</table>\n",
       "</div>"
      ],
      "text/plain": [
       "   cat_id              category  \\\n",
       "0       1  Balls and Fetch Toys   \n",
       "1       2             Chew Toys   \n",
       "2       3            Plush Toys   \n",
       "3       4      Interactive Toys   \n",
       "4       5          Rope and Tug   \n",
       "\n",
       "                                                link  page range  \n",
       "0  https://www.chewy.com/s?rh=c%3A288%2Cc%3A315%2...          19  \n",
       "1  https://www.chewy.com/s?rh=c%3A288%2Cc%3A315%2...          15  \n",
       "2  https://www.chewy.com/s?rh=c%3A288%2Cc%3A315%2...          17  \n",
       "3  https://www.chewy.com/s?rh=c%3A288%2Cc%3A315%2...           8  \n",
       "4  https://www.chewy.com/s?rh=c%3A288%2Cc%3A315%2...           9  "
      ]
     },
     "execution_count": 124,
     "metadata": {},
     "output_type": "execute_result"
    }
   ],
   "source": [
    "df_cat = pd.read_csv(\"s3://dogfaces/reviews/category.csv\")\n",
    "df_cat.head()"
   ]
  },
  {
   "cell_type": "markdown",
   "metadata": {},
   "source": [
    "### Start with rope and tug"
   ]
  },
  {
   "cell_type": "code",
   "execution_count": 14,
   "metadata": {
    "collapsed": true
   },
   "outputs": [],
   "source": [
    "def get_cat_link(cat_id):\n",
    "    try:\n",
    "        df = DF_CAT\n",
    "    except NameError:\n",
    "        df = pd.read_csv(\"s3://dogfaces/reviews/category.csv\")    \n",
    "    link = df[df['cat_id']==cat_id]['link'].values[0]    \n",
    "    page_range = df[df['cat_id']==cat_id]['page range'].values[0]\n",
    "    return link, page_range"
   ]
  },
  {
   "cell_type": "code",
   "execution_count": 17,
   "metadata": {
    "collapsed": false
   },
   "outputs": [],
   "source": [
    "link, page_range = get_cat_link(1)"
   ]
  },
  {
   "cell_type": "code",
   "execution_count": 109,
   "metadata": {
    "collapsed": true
   },
   "outputs": [],
   "source": [
    "def get_toys(cat_id):\n",
    "    link, page_range = get_cat_link(cat_id)\n",
    "    res = []\n",
    "    for i in xrange(page_range):\n",
    "        toys_url = link+'&page={}'.format(i+1)\n",
    "        r = requests.get(toys_url)\n",
    "        if r.status_code == 200:\n",
    "            soup = BeautifulSoup(r.content)\n",
    "            for item in soup.select(\"article.product-holder.cw-card.cw-card-hover\"):\n",
    "                num_reviews = int(item.select('p.rating.item-rating')[0].find('span').get_text())\n",
    "                if num_reviews > 10:\n",
    "                    toy = {}\n",
    "                    toy['num_reviews'] = num_reviews\n",
    "                    raw_id = item.select('a')[0]['href']\n",
    "                    toy['toy_link'] = \"https://www.chewy.com\"+item.select('a')[0]['href']\n",
    "                    toy['toy_id'] = raw_id.split('/')[-1]\n",
    "                    toy['toy_name'] = raw_id.split('/')[1]\n",
    "                    toy['picture_link'] = \"https:\" + item.select('img')[0]['src']\n",
    "                    toy['price'] = item.select('p.price')[0].get_text().split()[0]\n",
    "                    res.append(toy)\n",
    "    return res"
   ]
  },
  {
   "cell_type": "code",
   "execution_count": 121,
   "metadata": {
    "collapsed": false
   },
   "outputs": [],
   "source": [
    "temp = get_toys(3)\n",
    "df_test = pd.DataFrame.from_dict(temp)"
   ]
  },
  {
   "cell_type": "code",
   "execution_count": 122,
   "metadata": {
    "collapsed": false
   },
   "outputs": [
    {
     "name": "stdout",
     "output_type": "stream",
     "text": [
      "https://www.chewy.com/kong-tuggerknots-moose-dog-toy/dp/43095\n"
     ]
    }
   ],
   "source": [
    "print df_test['toy_link'][10]"
   ]
  },
  {
   "cell_type": "markdown",
   "metadata": {
    "collapsed": true
   },
   "source": [
    "### Scrape reviews and images"
   ]
  },
  {
   "cell_type": "code",
   "execution_count": 3,
   "metadata": {
    "collapsed": true
   },
   "outputs": [],
   "source": [
    "df_toys = pd.read_csv(\"s3://dogfaces/reviews/toys.csv\")"
   ]
  },
  {
   "cell_type": "code",
   "execution_count": 4,
   "metadata": {
    "collapsed": false
   },
   "outputs": [
    {
     "data": {
      "text/html": [
       "<div>\n",
       "<table border=\"1\" class=\"dataframe\">\n",
       "  <thead>\n",
       "    <tr style=\"text-align: right;\">\n",
       "      <th></th>\n",
       "      <th>cat_id</th>\n",
       "      <th>num_reviews</th>\n",
       "      <th>picture_link</th>\n",
       "      <th>price</th>\n",
       "      <th>toy_id</th>\n",
       "      <th>toy_link</th>\n",
       "      <th>toy_name</th>\n",
       "    </tr>\n",
       "  </thead>\n",
       "  <tbody>\n",
       "    <tr>\n",
       "      <th>0</th>\n",
       "      <td>1</td>\n",
       "      <td>800</td>\n",
       "      <td>https://img.chewy.com/is/catalog/62758_MAIN._A...</td>\n",
       "      <td>$1.19</td>\n",
       "      <td>47728</td>\n",
       "      <td>https://www.chewy.com/kong-airdog-squeakair-ba...</td>\n",
       "      <td>kong-airdog-squeakair-ball-dog-toy</td>\n",
       "    </tr>\n",
       "    <tr>\n",
       "      <th>1</th>\n",
       "      <td>1</td>\n",
       "      <td>127</td>\n",
       "      <td>https://img.chewy.com/is/catalog/80753._AC_SS1...</td>\n",
       "      <td>$2.99</td>\n",
       "      <td>108582</td>\n",
       "      <td>https://www.chewy.com/mammoth-monkey-fist-bar-...</td>\n",
       "      <td>mammoth-monkey-fist-bar-dog-toy</td>\n",
       "    </tr>\n",
       "    <tr>\n",
       "      <th>2</th>\n",
       "      <td>1</td>\n",
       "      <td>292</td>\n",
       "      <td>https://img.chewy.com/is/catalog/62850._AC_SS1...</td>\n",
       "      <td>$3.39</td>\n",
       "      <td>47880</td>\n",
       "      <td>https://www.chewy.com/kong-squeakair-birthday-...</td>\n",
       "      <td>kong-squeakair-birthday-balls-dog</td>\n",
       "    </tr>\n",
       "    <tr>\n",
       "      <th>3</th>\n",
       "      <td>1</td>\n",
       "      <td>1233</td>\n",
       "      <td>https://img.chewy.com/is/catalog/77643._AC_SS1...</td>\n",
       "      <td>$9.39</td>\n",
       "      <td>105502</td>\n",
       "      <td>https://www.chewy.com/kong-jumbler-ball-dog-to...</td>\n",
       "      <td>kong-jumbler-ball-dog-toy-color</td>\n",
       "    </tr>\n",
       "    <tr>\n",
       "      <th>4</th>\n",
       "      <td>1</td>\n",
       "      <td>538</td>\n",
       "      <td>https://img.chewy.com/is/catalog/53235_MAIN._A...</td>\n",
       "      <td>$6.85</td>\n",
       "      <td>38371</td>\n",
       "      <td>https://www.chewy.com/chuckit-ultra-rubber-bal...</td>\n",
       "      <td>chuckit-ultra-rubber-ball-medium-2</td>\n",
       "    </tr>\n",
       "  </tbody>\n",
       "</table>\n",
       "</div>"
      ],
      "text/plain": [
       "   cat_id  num_reviews                                       picture_link  \\\n",
       "0       1          800  https://img.chewy.com/is/catalog/62758_MAIN._A...   \n",
       "1       1          127  https://img.chewy.com/is/catalog/80753._AC_SS1...   \n",
       "2       1          292  https://img.chewy.com/is/catalog/62850._AC_SS1...   \n",
       "3       1         1233  https://img.chewy.com/is/catalog/77643._AC_SS1...   \n",
       "4       1          538  https://img.chewy.com/is/catalog/53235_MAIN._A...   \n",
       "\n",
       "   price  toy_id                                           toy_link  \\\n",
       "0  $1.19   47728  https://www.chewy.com/kong-airdog-squeakair-ba...   \n",
       "1  $2.99  108582  https://www.chewy.com/mammoth-monkey-fist-bar-...   \n",
       "2  $3.39   47880  https://www.chewy.com/kong-squeakair-birthday-...   \n",
       "3  $9.39  105502  https://www.chewy.com/kong-jumbler-ball-dog-to...   \n",
       "4  $6.85   38371  https://www.chewy.com/chuckit-ultra-rubber-bal...   \n",
       "\n",
       "                             toy_name  \n",
       "0  kong-airdog-squeakair-ball-dog-toy  \n",
       "1     mammoth-monkey-fist-bar-dog-toy  \n",
       "2   kong-squeakair-birthday-balls-dog  \n",
       "3     kong-jumbler-ball-dog-toy-color  \n",
       "4  chuckit-ultra-rubber-ball-medium-2  "
      ]
     },
     "execution_count": 4,
     "metadata": {},
     "output_type": "execute_result"
    }
   ],
   "source": [
    "df_toys.head()"
   ]
  },
  {
   "cell_type": "code",
   "execution_count": 3,
   "metadata": {
    "collapsed": false
   },
   "outputs": [
    {
     "ename": "NameError",
     "evalue": "name 'df_toys' is not defined",
     "output_type": "error",
     "traceback": [
      "\u001b[0;31m---------------------------------------------------------------------------\u001b[0m",
      "\u001b[0;31mNameError\u001b[0m                                 Traceback (most recent call last)",
      "\u001b[0;32m<ipython-input-3-5bd0eef431e2>\u001b[0m in \u001b[0;36m<module>\u001b[0;34m()\u001b[0m\n\u001b[0;32m----> 1\u001b[0;31m \u001b[0mtest_url\u001b[0m \u001b[0;34m=\u001b[0m \u001b[0mdf_toys\u001b[0m\u001b[0;34m[\u001b[0m\u001b[0;34m'toy_link'\u001b[0m\u001b[0;34m]\u001b[0m\u001b[0;34m[\u001b[0m\u001b[0;36m0\u001b[0m\u001b[0;34m]\u001b[0m\u001b[0;34m\u001b[0m\u001b[0m\n\u001b[0m\u001b[1;32m      2\u001b[0m \u001b[0mreview_url\u001b[0m \u001b[0;34m=\u001b[0m \u001b[0mtest_url\u001b[0m\u001b[0;34m+\u001b[0m\u001b[0;34m'?'\u001b[0m\u001b[0;34m+\u001b[0m\u001b[0;34m'reviewSort=NEWEST&reviewFilter=ALL_STARS&pageNumber=1'\u001b[0m\u001b[0;34m\u001b[0m\u001b[0m\n\u001b[1;32m      3\u001b[0m \u001b[0mr\u001b[0m \u001b[0;34m=\u001b[0m \u001b[0mrequests\u001b[0m\u001b[0;34m.\u001b[0m\u001b[0mget\u001b[0m\u001b[0;34m(\u001b[0m\u001b[0mtest_url\u001b[0m\u001b[0;34m)\u001b[0m\u001b[0;34m\u001b[0m\u001b[0m\n",
      "\u001b[0;31mNameError\u001b[0m: name 'df_toys' is not defined"
     ]
    }
   ],
   "source": [
    "test_url = df_toys['toy_link'][0]\n",
    "review_url = test_url+'?'+'reviewSort=NEWEST&reviewFilter=ALL_STARS&pageNumber=1'\n",
    "r = requests.get(test_url)"
   ]
  },
  {
   "cell_type": "code",
   "execution_count": 8,
   "metadata": {
    "collapsed": false
   },
   "outputs": [
    {
     "data": {
      "text/plain": [
       "200"
      ]
     },
     "execution_count": 8,
     "metadata": {},
     "output_type": "execute_result"
    }
   ],
   "source": [
    "#|reviewid|toyid|toy_name | user_name| starts| review_text| time| image|image_id| useful|\n",
    "num_reviews = "
   ]
  },
  {
   "cell_type": "code",
   "execution_count": 9,
   "metadata": {
    "collapsed": false
   },
   "outputs": [
    {
     "data": {
      "text/plain": [
       "'https://www.chewy.com/kong-airdog-squeakair-ball-dog-toy/dp/47728?reviewSort=NEWEST&reviewFilter=ALL_STARS&pageNumber=1'"
      ]
     },
     "execution_count": 9,
     "metadata": {},
     "output_type": "execute_result"
    }
   ],
   "source": [
    "review_url"
   ]
  },
  {
   "cell_type": "code",
   "execution_count": 1,
   "metadata": {
    "collapsed": false
   },
   "outputs": [
    {
     "data": {
      "text/plain": [
       "'https://www.chewy.com/kong-airdog-squeakair-ball-dog-toy/product-reviews/47728?reviewSort=NEWEST&reviewFilter=ALL_STARS&pageNumber=3'"
      ]
     },
     "execution_count": 1,
     "metadata": {},
     "output_type": "execute_result"
    }
   ],
   "source": [
    "new_url = 'https://www.chewy.com/kong-airdog-squeakair-ball-dog-toy/product-reviews/47728?reviewSort=NEWEST&reviewFilter=ALL_STARS&pageNumber=3'\n",
    "new_url"
   ]
  },
  {
   "cell_type": "code",
   "execution_count": 2,
   "metadata": {
    "collapsed": false
   },
   "outputs": [
    {
     "ename": "NameError",
     "evalue": "name 'test_url' is not defined",
     "output_type": "error",
     "traceback": [
      "\u001b[0;31m---------------------------------------------------------------------------\u001b[0m",
      "\u001b[0;31mNameError\u001b[0m                                 Traceback (most recent call last)",
      "\u001b[0;32m<ipython-input-2-443b98e89d08>\u001b[0m in \u001b[0;36m<module>\u001b[0;34m()\u001b[0m\n\u001b[0;32m----> 1\u001b[0;31m \u001b[0mtest_url\u001b[0m\u001b[0;34m.\u001b[0m\u001b[0msplit\u001b[0m\u001b[0;34m(\u001b[0m\u001b[0;34m'/'\u001b[0m\u001b[0;34m)\u001b[0m\u001b[0;34m\u001b[0m\u001b[0m\n\u001b[0m",
      "\u001b[0;31mNameError\u001b[0m: name 'test_url' is not defined"
     ]
    }
   ],
   "source": [
    "test_url.split('/')"
   ]
  },
  {
   "cell_type": "code",
   "execution_count": null,
   "metadata": {
    "collapsed": true
   },
   "outputs": [],
   "source": []
  }
 ],
 "metadata": {
  "anaconda-cloud": {},
  "kernelspec": {
   "display_name": "Python [conda root]",
   "language": "python",
   "name": "conda-root-py"
  },
  "language_info": {
   "codemirror_mode": {
    "name": "ipython",
    "version": 2
   },
   "file_extension": ".py",
   "mimetype": "text/x-python",
   "name": "python",
   "nbconvert_exporter": "python",
   "pygments_lexer": "ipython2",
   "version": "2.7.13"
  }
 },
 "nbformat": 4,
 "nbformat_minor": 2
}
