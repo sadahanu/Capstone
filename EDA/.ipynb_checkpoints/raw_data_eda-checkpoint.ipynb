{
 "cells": [
  {
   "cell_type": "code",
   "execution_count": 247,
   "metadata": {
    "collapsed": true
   },
   "outputs": [],
   "source": [
    "import pandas as pd\n",
    "import matplotlib.pyplot as plt\n",
    "import scipy.io\n",
    "import re\n",
    "from collections import defaultdict\n",
    "from nltk.stem.snowball import SnowballStemmer\n",
    "import numpy as np\n",
    "import tensorflow as tf\n",
    "import os\n",
    "%matplotlib inline\n",
    "\n",
    "snowball = SnowballStemmer('english')"
   ]
  },
  {
   "cell_type": "code",
   "execution_count": 15,
   "metadata": {
    "collapsed": true
   },
   "outputs": [],
   "source": [
    "data_path = \"~/Documents/Zhou_Yu/DS/Galvanize/Capstone_data/\"\n",
    "data_path_stan = \"/Users/zhouyu/Documents/Zhou_Yu/DS/Galvanize/Capstone_data/stanford/file_list.mat\""
   ]
  },
  {
   "cell_type": "markdown",
   "metadata": {},
   "source": [
    "### 1. Read in common breed names"
   ]
  },
  {
   "cell_type": "code",
   "execution_count": 3,
   "metadata": {
    "collapsed": true
   },
   "outputs": [],
   "source": [
    "# 1. from website\n",
    "df = pd.read_csv(data_path+\"top_dog_breed.csv\")"
   ]
  },
  {
   "cell_type": "code",
   "execution_count": 4,
   "metadata": {
    "collapsed": false
   },
   "outputs": [
    {
     "data": {
      "text/html": [
       "<div>\n",
       "<table border=\"1\" class=\"dataframe\">\n",
       "  <thead>\n",
       "    <tr style=\"text-align: right;\">\n",
       "      <th></th>\n",
       "      <th>Breed</th>\n",
       "      <th>2016 Rank</th>\n",
       "      <th>2015 Rank</th>\n",
       "      <th>2014 Rank</th>\n",
       "      <th>2013 Rank</th>\n",
       "    </tr>\n",
       "  </thead>\n",
       "  <tbody>\n",
       "    <tr>\n",
       "      <th>0</th>\n",
       "      <td>Retrievers (Labrador)</td>\n",
       "      <td>1</td>\n",
       "      <td>1.0</td>\n",
       "      <td>1.0</td>\n",
       "      <td>1.0</td>\n",
       "    </tr>\n",
       "    <tr>\n",
       "      <th>1</th>\n",
       "      <td>German Shepherd Dogs</td>\n",
       "      <td>2</td>\n",
       "      <td>2.0</td>\n",
       "      <td>2.0</td>\n",
       "      <td>2.0</td>\n",
       "    </tr>\n",
       "    <tr>\n",
       "      <th>2</th>\n",
       "      <td>Retrievers (Golden)</td>\n",
       "      <td>3</td>\n",
       "      <td>3.0</td>\n",
       "      <td>3.0</td>\n",
       "      <td>3.0</td>\n",
       "    </tr>\n",
       "    <tr>\n",
       "      <th>3</th>\n",
       "      <td>Bulldogs</td>\n",
       "      <td>4</td>\n",
       "      <td>4.0</td>\n",
       "      <td>4.0</td>\n",
       "      <td>5.0</td>\n",
       "    </tr>\n",
       "    <tr>\n",
       "      <th>4</th>\n",
       "      <td>Beagles</td>\n",
       "      <td>5</td>\n",
       "      <td>5.0</td>\n",
       "      <td>5.0</td>\n",
       "      <td>4.0</td>\n",
       "    </tr>\n",
       "  </tbody>\n",
       "</table>\n",
       "</div>"
      ],
      "text/plain": [
       "                   Breed  2016 Rank  2015 Rank  2014 Rank  2013 Rank\n",
       "0  Retrievers (Labrador)          1        1.0        1.0        1.0\n",
       "1   German Shepherd Dogs          2        2.0        2.0        2.0\n",
       "2    Retrievers (Golden)          3        3.0        3.0        3.0\n",
       "3               Bulldogs          4        4.0        4.0        5.0\n",
       "4                Beagles          5        5.0        5.0        4.0"
      ]
     },
     "execution_count": 4,
     "metadata": {},
     "output_type": "execute_result"
    }
   ],
   "source": [
    "df.head()"
   ]
  },
  {
   "cell_type": "code",
   "execution_count": 5,
   "metadata": {
    "collapsed": false
   },
   "outputs": [],
   "source": [
    "# 2. from the stanford\n",
    "df_stanford = scipy.io.loadmat(\"/Users/zhouyu/Documents/Zhou_Yu/DS/Galvanize/Capstone_data/stanford/file_list.mat\")"
   ]
  },
  {
   "cell_type": "code",
   "execution_count": 129,
   "metadata": {
    "collapsed": false
   },
   "outputs": [],
   "source": [
    "# clean out the breed name\n",
    "def getBreedName_stanford(file_path):\n",
    "    df_stanford = scipy.io.loadmat(file_path)\n",
    "    stanford_breed = set()\n",
    "    for label in df_stanford['file_list']:\n",
    "        name = re.findall('\\d+-(\\S*)\\/', label[0][0])\n",
    "        if 'black' in label[0][0]:\n",
    "            print label[0][0]\n",
    "            print name[0]\n",
    "        stanford_breed.add(name[0])\n",
    "    return stanford_breed"
   ]
  },
  {
   "cell_type": "code",
   "execution_count": 130,
   "metadata": {
    "collapsed": true
   },
   "outputs": [
    {
     "name": "stdout",
     "output_type": "stream",
     "text": [
      "n02089078-black-and-tan_coonhound/n02089078_1021.jpg\n",
      "black-and-tan_coonhound\n",
      "n02089078-black-and-tan_coonhound/n02089078_1025.jpg\n",
      "black-and-tan_coonhound\n",
      "n02089078-black-and-tan_coonhound/n02089078_1026.jpg\n",
      "black-and-tan_coonhound\n",
      "n02089078-black-and-tan_coonhound/n02089078_1064.jpg\n",
      "black-and-tan_coonhound\n",
      "n02089078-black-and-tan_coonhound/n02089078_111.jpg\n",
      "black-and-tan_coonhound\n",
      "n02089078-black-and-tan_coonhound/n02089078_1151.jpg\n",
      "black-and-tan_coonhound\n",
      "n02089078-black-and-tan_coonhound/n02089078_1174.jpg\n",
      "black-and-tan_coonhound\n",
      "n02089078-black-and-tan_coonhound/n02089078_1245.jpg\n",
      "black-and-tan_coonhound\n",
      "n02089078-black-and-tan_coonhound/n02089078_1275.jpg\n",
      "black-and-tan_coonhound\n",
      "n02089078-black-and-tan_coonhound/n02089078_1304.jpg\n",
      "black-and-tan_coonhound\n",
      "n02089078-black-and-tan_coonhound/n02089078_1366.jpg\n",
      "black-and-tan_coonhound\n",
      "n02089078-black-and-tan_coonhound/n02089078_141.jpg\n",
      "black-and-tan_coonhound\n",
      "n02089078-black-and-tan_coonhound/n02089078_1454.jpg\n",
      "black-and-tan_coonhound\n",
      "n02089078-black-and-tan_coonhound/n02089078_1472.jpg\n",
      "black-and-tan_coonhound\n",
      "n02089078-black-and-tan_coonhound/n02089078_1617.jpg\n",
      "black-and-tan_coonhound\n",
      "n02089078-black-and-tan_coonhound/n02089078_1629.jpg\n",
      "black-and-tan_coonhound\n",
      "n02089078-black-and-tan_coonhound/n02089078_1668.jpg\n",
      "black-and-tan_coonhound\n",
      "n02089078-black-and-tan_coonhound/n02089078_1680.jpg\n",
      "black-and-tan_coonhound\n",
      "n02089078-black-and-tan_coonhound/n02089078_1681.jpg\n",
      "black-and-tan_coonhound\n",
      "n02089078-black-and-tan_coonhound/n02089078_1735.jpg\n",
      "black-and-tan_coonhound\n",
      "n02089078-black-and-tan_coonhound/n02089078_1744.jpg\n",
      "black-and-tan_coonhound\n",
      "n02089078-black-and-tan_coonhound/n02089078_1758.jpg\n",
      "black-and-tan_coonhound\n",
      "n02089078-black-and-tan_coonhound/n02089078_176.jpg\n",
      "black-and-tan_coonhound\n",
      "n02089078-black-and-tan_coonhound/n02089078_1793.jpg\n",
      "black-and-tan_coonhound\n",
      "n02089078-black-and-tan_coonhound/n02089078_1825.jpg\n",
      "black-and-tan_coonhound\n",
      "n02089078-black-and-tan_coonhound/n02089078_183.jpg\n",
      "black-and-tan_coonhound\n",
      "n02089078-black-and-tan_coonhound/n02089078_1836.jpg\n",
      "black-and-tan_coonhound\n",
      "n02089078-black-and-tan_coonhound/n02089078_1842.jpg\n",
      "black-and-tan_coonhound\n",
      "n02089078-black-and-tan_coonhound/n02089078_185.jpg\n",
      "black-and-tan_coonhound\n",
      "n02089078-black-and-tan_coonhound/n02089078_1867.jpg\n",
      "black-and-tan_coonhound\n",
      "n02089078-black-and-tan_coonhound/n02089078_188.jpg\n",
      "black-and-tan_coonhound\n",
      "n02089078-black-and-tan_coonhound/n02089078_19.jpg\n",
      "black-and-tan_coonhound\n",
      "n02089078-black-and-tan_coonhound/n02089078_192.jpg\n",
      "black-and-tan_coonhound\n",
      "n02089078-black-and-tan_coonhound/n02089078_1951.jpg\n",
      "black-and-tan_coonhound\n",
      "n02089078-black-and-tan_coonhound/n02089078_1962.jpg\n",
      "black-and-tan_coonhound\n",
      "n02089078-black-and-tan_coonhound/n02089078_1967.jpg\n",
      "black-and-tan_coonhound\n",
      "n02089078-black-and-tan_coonhound/n02089078_2021.jpg\n",
      "black-and-tan_coonhound\n",
      "n02089078-black-and-tan_coonhound/n02089078_2025.jpg\n",
      "black-and-tan_coonhound\n",
      "n02089078-black-and-tan_coonhound/n02089078_2032.jpg\n",
      "black-and-tan_coonhound\n",
      "n02089078-black-and-tan_coonhound/n02089078_2106.jpg\n",
      "black-and-tan_coonhound\n",
      "n02089078-black-and-tan_coonhound/n02089078_2108.jpg\n",
      "black-and-tan_coonhound\n",
      "n02089078-black-and-tan_coonhound/n02089078_2110.jpg\n",
      "black-and-tan_coonhound\n",
      "n02089078-black-and-tan_coonhound/n02089078_2174.jpg\n",
      "black-and-tan_coonhound\n",
      "n02089078-black-and-tan_coonhound/n02089078_222.jpg\n",
      "black-and-tan_coonhound\n",
      "n02089078-black-and-tan_coonhound/n02089078_2225.jpg\n",
      "black-and-tan_coonhound\n",
      "n02089078-black-and-tan_coonhound/n02089078_2227.jpg\n",
      "black-and-tan_coonhound\n",
      "n02089078-black-and-tan_coonhound/n02089078_2232.jpg\n",
      "black-and-tan_coonhound\n",
      "n02089078-black-and-tan_coonhound/n02089078_2270.jpg\n",
      "black-and-tan_coonhound\n",
      "n02089078-black-and-tan_coonhound/n02089078_2282.jpg\n",
      "black-and-tan_coonhound\n",
      "n02089078-black-and-tan_coonhound/n02089078_2294.jpg\n",
      "black-and-tan_coonhound\n",
      "n02089078-black-and-tan_coonhound/n02089078_2333.jpg\n",
      "black-and-tan_coonhound\n",
      "n02089078-black-and-tan_coonhound/n02089078_2337.jpg\n",
      "black-and-tan_coonhound\n",
      "n02089078-black-and-tan_coonhound/n02089078_237.jpg\n",
      "black-and-tan_coonhound\n",
      "n02089078-black-and-tan_coonhound/n02089078_2404.jpg\n",
      "black-and-tan_coonhound\n",
      "n02089078-black-and-tan_coonhound/n02089078_2417.jpg\n",
      "black-and-tan_coonhound\n",
      "n02089078-black-and-tan_coonhound/n02089078_243.jpg\n",
      "black-and-tan_coonhound\n",
      "n02089078-black-and-tan_coonhound/n02089078_2464.jpg\n",
      "black-and-tan_coonhound\n",
      "n02089078-black-and-tan_coonhound/n02089078_2476.jpg\n",
      "black-and-tan_coonhound\n",
      "n02089078-black-and-tan_coonhound/n02089078_2478.jpg\n",
      "black-and-tan_coonhound\n",
      "n02089078-black-and-tan_coonhound/n02089078_2498.jpg\n",
      "black-and-tan_coonhound\n",
      "n02089078-black-and-tan_coonhound/n02089078_2542.jpg\n",
      "black-and-tan_coonhound\n",
      "n02089078-black-and-tan_coonhound/n02089078_256.jpg\n",
      "black-and-tan_coonhound\n",
      "n02089078-black-and-tan_coonhound/n02089078_2574.jpg\n",
      "black-and-tan_coonhound\n",
      "n02089078-black-and-tan_coonhound/n02089078_2596.jpg\n",
      "black-and-tan_coonhound\n",
      "n02089078-black-and-tan_coonhound/n02089078_2684.jpg\n",
      "black-and-tan_coonhound\n",
      "n02089078-black-and-tan_coonhound/n02089078_269.jpg\n",
      "black-and-tan_coonhound\n",
      "n02089078-black-and-tan_coonhound/n02089078_2728.jpg\n",
      "black-and-tan_coonhound\n",
      "n02089078-black-and-tan_coonhound/n02089078_2753.jpg\n",
      "black-and-tan_coonhound\n",
      "n02089078-black-and-tan_coonhound/n02089078_2794.jpg\n",
      "black-and-tan_coonhound\n",
      "n02089078-black-and-tan_coonhound/n02089078_2801.jpg\n",
      "black-and-tan_coonhound\n",
      "n02089078-black-and-tan_coonhound/n02089078_2829.jpg\n",
      "black-and-tan_coonhound\n",
      "n02089078-black-and-tan_coonhound/n02089078_2841.jpg\n",
      "black-and-tan_coonhound\n",
      "n02089078-black-and-tan_coonhound/n02089078_2903.jpg\n",
      "black-and-tan_coonhound\n",
      "n02089078-black-and-tan_coonhound/n02089078_2921.jpg\n",
      "black-and-tan_coonhound\n",
      "n02089078-black-and-tan_coonhound/n02089078_2934.jpg\n",
      "black-and-tan_coonhound\n",
      "n02089078-black-and-tan_coonhound/n02089078_2935.jpg\n",
      "black-and-tan_coonhound\n",
      "n02089078-black-and-tan_coonhound/n02089078_2957.jpg\n",
      "black-and-tan_coonhound\n",
      "n02089078-black-and-tan_coonhound/n02089078_2962.jpg\n",
      "black-and-tan_coonhound\n",
      "n02089078-black-and-tan_coonhound/n02089078_302.jpg\n",
      "black-and-tan_coonhound\n",
      "n02089078-black-and-tan_coonhound/n02089078_3038.jpg\n",
      "black-and-tan_coonhound\n",
      "n02089078-black-and-tan_coonhound/n02089078_3051.jpg\n",
      "black-and-tan_coonhound\n",
      "n02089078-black-and-tan_coonhound/n02089078_3078.jpg\n",
      "black-and-tan_coonhound\n",
      "n02089078-black-and-tan_coonhound/n02089078_3081.jpg\n",
      "black-and-tan_coonhound\n",
      "n02089078-black-and-tan_coonhound/n02089078_3088.jpg\n",
      "black-and-tan_coonhound\n",
      "n02089078-black-and-tan_coonhound/n02089078_3134.jpg\n",
      "black-and-tan_coonhound\n",
      "n02089078-black-and-tan_coonhound/n02089078_314.jpg\n",
      "black-and-tan_coonhound\n",
      "n02089078-black-and-tan_coonhound/n02089078_3182.jpg\n",
      "black-and-tan_coonhound\n",
      "n02089078-black-and-tan_coonhound/n02089078_3183.jpg\n",
      "black-and-tan_coonhound\n",
      "n02089078-black-and-tan_coonhound/n02089078_3188.jpg\n",
      "black-and-tan_coonhound\n",
      "n02089078-black-and-tan_coonhound/n02089078_3191.jpg\n",
      "black-and-tan_coonhound\n",
      "n02089078-black-and-tan_coonhound/n02089078_3196.jpg\n",
      "black-and-tan_coonhound\n",
      "n02089078-black-and-tan_coonhound/n02089078_324.jpg\n",
      "black-and-tan_coonhound\n",
      "n02089078-black-and-tan_coonhound/n02089078_3340.jpg\n",
      "black-and-tan_coonhound\n",
      "n02089078-black-and-tan_coonhound/n02089078_3355.jpg\n",
      "black-and-tan_coonhound\n",
      "n02089078-black-and-tan_coonhound/n02089078_3412.jpg\n",
      "black-and-tan_coonhound\n",
      "n02089078-black-and-tan_coonhound/n02089078_3419.jpg\n",
      "black-and-tan_coonhound\n",
      "n02089078-black-and-tan_coonhound/n02089078_3440.jpg\n",
      "black-and-tan_coonhound\n",
      "n02089078-black-and-tan_coonhound/n02089078_3443.jpg\n",
      "black-and-tan_coonhound\n",
      "n02089078-black-and-tan_coonhound/n02089078_351.jpg\n",
      "black-and-tan_coonhound\n",
      "n02089078-black-and-tan_coonhound/n02089078_353.jpg\n",
      "black-and-tan_coonhound\n",
      "n02089078-black-and-tan_coonhound/n02089078_3532.jpg\n",
      "black-and-tan_coonhound\n",
      "n02089078-black-and-tan_coonhound/n02089078_3543.jpg\n",
      "black-and-tan_coonhound\n",
      "n02089078-black-and-tan_coonhound/n02089078_3613.jpg\n",
      "black-and-tan_coonhound\n",
      "n02089078-black-and-tan_coonhound/n02089078_3615.jpg\n",
      "black-and-tan_coonhound\n",
      "n02089078-black-and-tan_coonhound/n02089078_3648.jpg\n",
      "black-and-tan_coonhound\n",
      "n02089078-black-and-tan_coonhound/n02089078_3652.jpg\n",
      "black-and-tan_coonhound\n",
      "n02089078-black-and-tan_coonhound/n02089078_3681.jpg\n",
      "black-and-tan_coonhound\n",
      "n02089078-black-and-tan_coonhound/n02089078_3759.jpg\n",
      "black-and-tan_coonhound\n",
      "n02089078-black-and-tan_coonhound/n02089078_376.jpg\n",
      "black-and-tan_coonhound\n",
      "n02089078-black-and-tan_coonhound/n02089078_3760.jpg\n",
      "black-and-tan_coonhound\n",
      "n02089078-black-and-tan_coonhound/n02089078_3807.jpg\n",
      "black-and-tan_coonhound\n",
      "n02089078-black-and-tan_coonhound/n02089078_3810.jpg\n",
      "black-and-tan_coonhound\n",
      "n02089078-black-and-tan_coonhound/n02089078_3821.jpg\n",
      "black-and-tan_coonhound\n",
      "n02089078-black-and-tan_coonhound/n02089078_3869.jpg\n",
      "black-and-tan_coonhound\n",
      "n02089078-black-and-tan_coonhound/n02089078_3893.jpg\n",
      "black-and-tan_coonhound\n",
      "n02089078-black-and-tan_coonhound/n02089078_3914.jpg\n",
      "black-and-tan_coonhound\n",
      "n02089078-black-and-tan_coonhound/n02089078_3923.jpg\n",
      "black-and-tan_coonhound\n",
      "n02089078-black-and-tan_coonhound/n02089078_393.jpg\n",
      "black-and-tan_coonhound\n",
      "n02089078-black-and-tan_coonhound/n02089078_3932.jpg\n",
      "black-and-tan_coonhound\n",
      "n02089078-black-and-tan_coonhound/n02089078_4.jpg\n",
      "black-and-tan_coonhound\n",
      "n02089078-black-and-tan_coonhound/n02089078_4024.jpg\n",
      "black-and-tan_coonhound\n",
      "n02089078-black-and-tan_coonhound/n02089078_404.jpg\n",
      "black-and-tan_coonhound\n",
      "n02089078-black-and-tan_coonhound/n02089078_4065.jpg\n",
      "black-and-tan_coonhound\n",
      "n02089078-black-and-tan_coonhound/n02089078_4098.jpg\n",
      "black-and-tan_coonhound\n",
      "n02089078-black-and-tan_coonhound/n02089078_4140.jpg\n",
      "black-and-tan_coonhound\n",
      "n02089078-black-and-tan_coonhound/n02089078_4186.jpg\n",
      "black-and-tan_coonhound\n",
      "n02089078-black-and-tan_coonhound/n02089078_4312.jpg\n",
      "black-and-tan_coonhound\n",
      "n02089078-black-and-tan_coonhound/n02089078_4331.jpg\n",
      "black-and-tan_coonhound\n",
      "n02089078-black-and-tan_coonhound/n02089078_4362.jpg\n",
      "black-and-tan_coonhound\n",
      "n02089078-black-and-tan_coonhound/n02089078_4422.jpg\n",
      "black-and-tan_coonhound\n",
      "n02089078-black-and-tan_coonhound/n02089078_4441.jpg\n",
      "black-and-tan_coonhound\n",
      "n02089078-black-and-tan_coonhound/n02089078_445.jpg\n",
      "black-and-tan_coonhound\n",
      "n02089078-black-and-tan_coonhound/n02089078_4466.jpg\n",
      "black-and-tan_coonhound\n",
      "n02089078-black-and-tan_coonhound/n02089078_4497.jpg\n",
      "black-and-tan_coonhound\n",
      "n02089078-black-and-tan_coonhound/n02089078_45.jpg\n",
      "black-and-tan_coonhound\n",
      "n02089078-black-and-tan_coonhound/n02089078_4508.jpg\n",
      "black-and-tan_coonhound\n",
      "n02089078-black-and-tan_coonhound/n02089078_4544.jpg\n",
      "black-and-tan_coonhound\n",
      "n02089078-black-and-tan_coonhound/n02089078_456.jpg\n",
      "black-and-tan_coonhound\n",
      "n02089078-black-and-tan_coonhound/n02089078_461.jpg\n",
      "black-and-tan_coonhound\n",
      "n02089078-black-and-tan_coonhound/n02089078_464.jpg\n",
      "black-and-tan_coonhound\n",
      "n02089078-black-and-tan_coonhound/n02089078_465.jpg\n",
      "black-and-tan_coonhound\n",
      "n02089078-black-and-tan_coonhound/n02089078_482.jpg\n",
      "black-and-tan_coonhound\n",
      "n02089078-black-and-tan_coonhound/n02089078_502.jpg\n",
      "black-and-tan_coonhound\n",
      "n02089078-black-and-tan_coonhound/n02089078_52.jpg\n",
      "black-and-tan_coonhound\n",
      "n02089078-black-and-tan_coonhound/n02089078_641.jpg\n",
      "black-and-tan_coonhound\n",
      "n02089078-black-and-tan_coonhound/n02089078_663.jpg\n",
      "black-and-tan_coonhound\n",
      "n02089078-black-and-tan_coonhound/n02089078_682.jpg\n",
      "black-and-tan_coonhound\n",
      "n02089078-black-and-tan_coonhound/n02089078_695.jpg\n",
      "black-and-tan_coonhound\n",
      "n02089078-black-and-tan_coonhound/n02089078_715.jpg\n",
      "black-and-tan_coonhound\n",
      "n02089078-black-and-tan_coonhound/n02089078_727.jpg\n",
      "black-and-tan_coonhound\n",
      "n02089078-black-and-tan_coonhound/n02089078_779.jpg\n",
      "black-and-tan_coonhound\n",
      "n02089078-black-and-tan_coonhound/n02089078_782.jpg\n",
      "black-and-tan_coonhound\n",
      "n02089078-black-and-tan_coonhound/n02089078_80.jpg\n",
      "black-and-tan_coonhound\n",
      "n02089078-black-and-tan_coonhound/n02089078_825.jpg\n",
      "black-and-tan_coonhound\n",
      "n02089078-black-and-tan_coonhound/n02089078_877.jpg\n",
      "black-and-tan_coonhound\n",
      "n02089078-black-and-tan_coonhound/n02089078_901.jpg\n",
      "black-and-tan_coonhound\n",
      "n02089078-black-and-tan_coonhound/n02089078_933.jpg\n",
      "black-and-tan_coonhound\n",
      "n02089078-black-and-tan_coonhound/n02089078_944.jpg\n",
      "black-and-tan_coonhound\n",
      "n02089078-black-and-tan_coonhound/n02089078_965.jpg\n",
      "black-and-tan_coonhound\n"
     ]
    }
   ],
   "source": [
    "stanford_breed = getBreedName_stanford(data_path_stan)# total 120"
   ]
  },
  {
   "cell_type": "code",
   "execution_count": 131,
   "metadata": {
    "collapsed": false
   },
   "outputs": [],
   "source": [
    "stanford_breed_list = set([x.replace('-', ' ').replace('_',' ').lower() for x in stanford_breed])"
   ]
  },
  {
   "cell_type": "code",
   "execution_count": 132,
   "metadata": {
    "collapsed": true
   },
   "outputs": [
    {
     "data": {
      "text/plain": [
       "{u'affenpinscher',\n",
       " u'afghan hound',\n",
       " u'african hunting dog',\n",
       " u'airedale',\n",
       " u'american staffordshire terrier',\n",
       " u'appenzeller',\n",
       " u'australian terrier',\n",
       " u'basenji',\n",
       " u'basset',\n",
       " u'beagle',\n",
       " u'bedlington terrier',\n",
       " u'bernese mountain dog',\n",
       " u'black and tan coonhound',\n",
       " u'blenheim spaniel',\n",
       " u'bloodhound',\n",
       " u'bluetick',\n",
       " u'border collie',\n",
       " u'border terrier',\n",
       " u'borzoi',\n",
       " u'boston bull',\n",
       " u'bouvier des flandres',\n",
       " u'boxer',\n",
       " u'brabancon griffon',\n",
       " u'briard',\n",
       " u'brittany spaniel',\n",
       " u'bull mastiff',\n",
       " u'cairn',\n",
       " u'cardigan',\n",
       " u'chesapeake bay retriever',\n",
       " u'chihuahua',\n",
       " u'chow',\n",
       " u'clumber',\n",
       " u'cocker spaniel',\n",
       " u'collie',\n",
       " u'curly coated retriever',\n",
       " u'dandie dinmont',\n",
       " u'dhole',\n",
       " u'dingo',\n",
       " u'doberman',\n",
       " u'english foxhound',\n",
       " u'english setter',\n",
       " u'english springer',\n",
       " u'entlebucher',\n",
       " u'eskimo dog',\n",
       " u'flat coated retriever',\n",
       " u'french bulldog',\n",
       " u'german shepherd',\n",
       " u'german short haired pointer',\n",
       " u'giant schnauzer',\n",
       " u'golden retriever',\n",
       " u'gordon setter',\n",
       " u'great dane',\n",
       " u'great pyrenees',\n",
       " u'greater swiss mountain dog',\n",
       " u'groenendael',\n",
       " u'ibizan hound',\n",
       " u'irish setter',\n",
       " u'irish terrier',\n",
       " u'irish water spaniel',\n",
       " u'irish wolfhound',\n",
       " u'italian greyhound',\n",
       " u'japanese spaniel',\n",
       " u'keeshond',\n",
       " u'kelpie',\n",
       " u'kerry blue terrier',\n",
       " u'komondor',\n",
       " u'kuvasz',\n",
       " u'labrador retriever',\n",
       " u'lakeland terrier',\n",
       " u'leonberg',\n",
       " u'lhasa',\n",
       " u'malamute',\n",
       " u'malinois',\n",
       " u'maltese dog',\n",
       " u'mexican hairless',\n",
       " u'miniature pinscher',\n",
       " u'miniature poodle',\n",
       " u'miniature schnauzer',\n",
       " u'newfoundland',\n",
       " u'norfolk terrier',\n",
       " u'norwegian elkhound',\n",
       " u'norwich terrier',\n",
       " u'old english sheepdog',\n",
       " u'otterhound',\n",
       " u'papillon',\n",
       " u'pekinese',\n",
       " u'pembroke',\n",
       " u'pomeranian',\n",
       " u'pug',\n",
       " u'redbone',\n",
       " u'rhodesian ridgeback',\n",
       " u'rottweiler',\n",
       " u'saint bernard',\n",
       " u'saluki',\n",
       " u'samoyed',\n",
       " u'schipperke',\n",
       " u'scotch terrier',\n",
       " u'scottish deerhound',\n",
       " u'sealyham terrier',\n",
       " u'shetland sheepdog',\n",
       " u'shih tzu',\n",
       " u'siberian husky',\n",
       " u'silky terrier',\n",
       " u'soft coated wheaten terrier',\n",
       " u'staffordshire bullterrier',\n",
       " u'standard poodle',\n",
       " u'standard schnauzer',\n",
       " u'sussex spaniel',\n",
       " u'tibetan mastiff',\n",
       " u'tibetan terrier',\n",
       " u'toy poodle',\n",
       " u'toy terrier',\n",
       " u'vizsla',\n",
       " u'walker hound',\n",
       " u'weimaraner',\n",
       " u'welsh springer spaniel',\n",
       " u'west highland white terrier',\n",
       " u'whippet',\n",
       " u'wire haired fox terrier',\n",
       " u'yorkshire terrier'}"
      ]
     },
     "execution_count": 132,
     "metadata": {},
     "output_type": "execute_result"
    }
   ],
   "source": [
    "stanford_breed_list"
   ]
  },
  {
   "cell_type": "code",
   "execution_count": 133,
   "metadata": {
    "collapsed": false
   },
   "outputs": [
    {
     "data": {
      "text/plain": [
       "{u'great pyrenees', u'shih tzu'}"
      ]
     },
     "execution_count": 133,
     "metadata": {},
     "output_type": "execute_result"
    }
   ],
   "source": [
    "#2.1. Naturally there is no intersection....\n",
    "stanford_breed_list & set(df['Breed'].str.lower().values)"
   ]
  },
  {
   "cell_type": "code",
   "execution_count": 134,
   "metadata": {
    "collapsed": false
   },
   "outputs": [
    {
     "data": {
      "text/plain": [
       "False"
      ]
     },
     "execution_count": 134,
     "metadata": {},
     "output_type": "execute_result"
    }
   ],
   "source": [
    "'bulldog' in stanford_breed_list"
   ]
  },
  {
   "cell_type": "code",
   "execution_count": 135,
   "metadata": {
    "collapsed": false
   },
   "outputs": [],
   "source": [
    "# from ox database \n",
    "df_ox = pd.read_csv(data_path+\"ox/ox_annotations/list.txt\",skiprows=6,delimiter=\" \", names=[\"image_ID\", \"class\",\"species\", \"breed\"])"
   ]
  },
  {
   "cell_type": "code",
   "execution_count": 136,
   "metadata": {
    "collapsed": false
   },
   "outputs": [
    {
     "data": {
      "text/html": [
       "<div>\n",
       "<table border=\"1\" class=\"dataframe\">\n",
       "  <thead>\n",
       "    <tr style=\"text-align: right;\">\n",
       "      <th></th>\n",
       "      <th>image_ID</th>\n",
       "      <th>class</th>\n",
       "      <th>species</th>\n",
       "      <th>breed</th>\n",
       "    </tr>\n",
       "  </thead>\n",
       "  <tbody>\n",
       "    <tr>\n",
       "      <th>50</th>\n",
       "      <td>american_bulldog_100</td>\n",
       "      <td>2</td>\n",
       "      <td>2</td>\n",
       "      <td>1</td>\n",
       "    </tr>\n",
       "    <tr>\n",
       "      <th>51</th>\n",
       "      <td>american_bulldog_101</td>\n",
       "      <td>2</td>\n",
       "      <td>2</td>\n",
       "      <td>1</td>\n",
       "    </tr>\n",
       "    <tr>\n",
       "      <th>52</th>\n",
       "      <td>american_bulldog_102</td>\n",
       "      <td>2</td>\n",
       "      <td>2</td>\n",
       "      <td>1</td>\n",
       "    </tr>\n",
       "    <tr>\n",
       "      <th>53</th>\n",
       "      <td>american_bulldog_103</td>\n",
       "      <td>2</td>\n",
       "      <td>2</td>\n",
       "      <td>1</td>\n",
       "    </tr>\n",
       "    <tr>\n",
       "      <th>54</th>\n",
       "      <td>american_bulldog_104</td>\n",
       "      <td>2</td>\n",
       "      <td>2</td>\n",
       "      <td>1</td>\n",
       "    </tr>\n",
       "  </tbody>\n",
       "</table>\n",
       "</div>"
      ],
      "text/plain": [
       "                image_ID  class  species  breed\n",
       "50  american_bulldog_100      2        2      1\n",
       "51  american_bulldog_101      2        2      1\n",
       "52  american_bulldog_102      2        2      1\n",
       "53  american_bulldog_103      2        2      1\n",
       "54  american_bulldog_104      2        2      1"
      ]
     },
     "execution_count": 136,
     "metadata": {},
     "output_type": "execute_result"
    }
   ],
   "source": [
    "df_ox_dogs = df_ox[df_ox['species']==2]\n",
    "df_ox_dogs.head()"
   ]
  },
  {
   "cell_type": "code",
   "execution_count": 137,
   "metadata": {
    "collapsed": false
   },
   "outputs": [
    {
     "data": {
      "text/plain": [
       "(4978, 4)"
      ]
     },
     "execution_count": 137,
     "metadata": {},
     "output_type": "execute_result"
    }
   ],
   "source": [
    "df_ox_dogs.shape"
   ]
  },
  {
   "cell_type": "code",
   "execution_count": 138,
   "metadata": {
    "collapsed": false
   },
   "outputs": [
    {
     "name": "stderr",
     "output_type": "stream",
     "text": [
      "/Users/zhouyu/Documents/anaconda/lib/python2.7/site-packages/ipykernel/__main__.py:4: SettingWithCopyWarning: \n",
      "A value is trying to be set on a copy of a slice from a DataFrame.\n",
      "Try using .loc[row_indexer,col_indexer] = value instead\n",
      "\n",
      "See the caveats in the documentation: http://pandas.pydata.org/pandas-docs/stable/indexing.html#indexing-view-versus-copy\n"
     ]
    }
   ],
   "source": [
    "def remove_digit(s):\n",
    "    temp = ''.join([x if not x.isdigit() else '' for x in s])\n",
    "    return temp.replace('_', ' ').strip()\n",
    "df_ox_dogs['breedname'] = df_ox_dogs['image_ID'].apply(lambda row:remove_digit(row))"
   ]
  },
  {
   "cell_type": "code",
   "execution_count": 139,
   "metadata": {
    "collapsed": true
   },
   "outputs": [
    {
     "data": {
      "text/plain": [
       "50    american bulldog\n",
       "51    american bulldog\n",
       "52    american bulldog\n",
       "53    american bulldog\n",
       "54    american bulldog\n",
       "Name: breedname, dtype: object"
      ]
     },
     "execution_count": 139,
     "metadata": {},
     "output_type": "execute_result"
    }
   ],
   "source": [
    "df_ox_dogs['breedname'].head()"
   ]
  },
  {
   "cell_type": "code",
   "execution_count": 140,
   "metadata": {
    "collapsed": true
   },
   "outputs": [
    {
     "data": {
      "text/plain": [
       "miniature pinscher            200\n",
       "german shorthaired            200\n",
       "chihuahua                     200\n",
       "beagle                        200\n",
       "great pyrenees                200\n",
       "american bulldog              200\n",
       "samoyed                       200\n",
       "pomeranian                    200\n",
       "pug                           200\n",
       "leonberger                    200\n",
       "havanese                      200\n",
       "yorkshire terrier             200\n",
       "japanese chin                 200\n",
       "american pit bull terrier     200\n",
       "english setter                200\n",
       "basset hound                  200\n",
       "shiba inu                     200\n",
       "wheaten terrier               200\n",
       "saint bernard                 200\n",
       "keeshond                      199\n",
       "scottish terrier              199\n",
       "boxer                         199\n",
       "english cocker spaniel        196\n",
       "newfoundland                  196\n",
       "staffordshire bull terrier    189\n",
       "Name: breedname, dtype: int64"
      ]
     },
     "execution_count": 140,
     "metadata": {},
     "output_type": "execute_result"
    }
   ],
   "source": [
    "df_ox_dogs['breedname'].value_counts()"
   ]
  },
  {
   "cell_type": "code",
   "execution_count": 141,
   "metadata": {
    "collapsed": true
   },
   "outputs": [],
   "source": [
    "ox_breed_list = set(df_ox_dogs['breedname'].values)"
   ]
  },
  {
   "cell_type": "code",
   "execution_count": 142,
   "metadata": {
    "collapsed": false
   },
   "outputs": [],
   "source": [
    "list_intersect = ox_breed_list & stanford_breed_list"
   ]
  },
  {
   "cell_type": "code",
   "execution_count": 143,
   "metadata": {
    "collapsed": true
   },
   "outputs": [
    {
     "data": {
      "text/plain": [
       "{'american bulldog',\n",
       " 'american pit bull terrier',\n",
       " 'basset hound',\n",
       " 'english cocker spaniel',\n",
       " 'german shorthaired',\n",
       " 'havanese',\n",
       " 'japanese chin',\n",
       " 'leonberger',\n",
       " 'scottish terrier',\n",
       " 'shiba inu',\n",
       " 'staffordshire bull terrier',\n",
       " 'wheaten terrier'}"
      ]
     },
     "execution_count": 143,
     "metadata": {},
     "output_type": "execute_result"
    }
   ],
   "source": [
    "ox_breed_list - list_intersect"
   ]
  },
  {
   "cell_type": "code",
   "execution_count": 144,
   "metadata": {
    "collapsed": true
   },
   "outputs": [
    {
     "data": {
      "text/plain": [
       "{u'affenpinscher',\n",
       " u'afghan hound',\n",
       " u'african hunting dog',\n",
       " u'airedale',\n",
       " u'american staffordshire terrier',\n",
       " u'appenzeller',\n",
       " u'australian terrier',\n",
       " u'basenji',\n",
       " u'basset',\n",
       " u'bedlington terrier',\n",
       " u'bernese mountain dog',\n",
       " u'black and tan coonhound',\n",
       " u'blenheim spaniel',\n",
       " u'bloodhound',\n",
       " u'bluetick',\n",
       " u'border collie',\n",
       " u'border terrier',\n",
       " u'borzoi',\n",
       " u'boston bull',\n",
       " u'bouvier des flandres',\n",
       " u'brabancon griffon',\n",
       " u'briard',\n",
       " u'brittany spaniel',\n",
       " u'bull mastiff',\n",
       " u'cairn',\n",
       " u'cardigan',\n",
       " u'chesapeake bay retriever',\n",
       " u'chow',\n",
       " u'clumber',\n",
       " u'cocker spaniel',\n",
       " u'collie',\n",
       " u'curly coated retriever',\n",
       " u'dandie dinmont',\n",
       " u'dhole',\n",
       " u'dingo',\n",
       " u'doberman',\n",
       " u'english foxhound',\n",
       " u'english springer',\n",
       " u'entlebucher',\n",
       " u'eskimo dog',\n",
       " u'flat coated retriever',\n",
       " u'french bulldog',\n",
       " u'german shepherd',\n",
       " u'german short haired pointer',\n",
       " u'giant schnauzer',\n",
       " u'golden retriever',\n",
       " u'gordon setter',\n",
       " u'great dane',\n",
       " u'greater swiss mountain dog',\n",
       " u'groenendael',\n",
       " u'ibizan hound',\n",
       " u'irish setter',\n",
       " u'irish terrier',\n",
       " u'irish water spaniel',\n",
       " u'irish wolfhound',\n",
       " u'italian greyhound',\n",
       " u'japanese spaniel',\n",
       " u'kelpie',\n",
       " u'kerry blue terrier',\n",
       " u'komondor',\n",
       " u'kuvasz',\n",
       " u'labrador retriever',\n",
       " u'lakeland terrier',\n",
       " u'leonberg',\n",
       " u'lhasa',\n",
       " u'malamute',\n",
       " u'malinois',\n",
       " u'maltese dog',\n",
       " u'mexican hairless',\n",
       " u'miniature poodle',\n",
       " u'miniature schnauzer',\n",
       " u'norfolk terrier',\n",
       " u'norwegian elkhound',\n",
       " u'norwich terrier',\n",
       " u'old english sheepdog',\n",
       " u'otterhound',\n",
       " u'papillon',\n",
       " u'pekinese',\n",
       " u'pembroke',\n",
       " u'redbone',\n",
       " u'rhodesian ridgeback',\n",
       " u'rottweiler',\n",
       " u'saluki',\n",
       " u'schipperke',\n",
       " u'scotch terrier',\n",
       " u'scottish deerhound',\n",
       " u'sealyham terrier',\n",
       " u'shetland sheepdog',\n",
       " u'shih tzu',\n",
       " u'siberian husky',\n",
       " u'silky terrier',\n",
       " u'soft coated wheaten terrier',\n",
       " u'staffordshire bullterrier',\n",
       " u'standard poodle',\n",
       " u'standard schnauzer',\n",
       " u'sussex spaniel',\n",
       " u'tibetan mastiff',\n",
       " u'tibetan terrier',\n",
       " u'toy poodle',\n",
       " u'toy terrier',\n",
       " u'vizsla',\n",
       " u'walker hound',\n",
       " u'weimaraner',\n",
       " u'welsh springer spaniel',\n",
       " u'west highland white terrier',\n",
       " u'whippet',\n",
       " u'wire haired fox terrier'}"
      ]
     },
     "execution_count": 144,
     "metadata": {},
     "output_type": "execute_result"
    }
   ],
   "source": [
    "stanford_breed_list - list_intersect"
   ]
  },
  {
   "cell_type": "markdown",
   "metadata": {},
   "source": [
    "### 2. Condense to a breed list"
   ]
  },
  {
   "cell_type": "code",
   "execution_count": 163,
   "metadata": {
    "collapsed": false
   },
   "outputs": [],
   "source": [
    "top100 = df['Breed'].str.lower().values[:100]"
   ]
  },
  {
   "cell_type": "code",
   "execution_count": 180,
   "metadata": {
    "collapsed": true
   },
   "outputs": [],
   "source": [
    "def clean_top100(lst):\n",
    "    res = [word.replace('(','') for word in lst]\n",
    "    res = [word.replace(')','') for word in res]\n",
    "    res = [re.sub(r'[^\\x00-\\x7F]+',' ', word) for word in res]\n",
    "    return res"
   ]
  },
  {
   "cell_type": "code",
   "execution_count": 182,
   "metadata": {
    "collapsed": false
   },
   "outputs": [
    {
     "data": {
      "text/plain": [
       "['retrievers labrador',\n",
       " 'german shepherd dogs',\n",
       " 'retrievers golden',\n",
       " 'bulldogs',\n",
       " 'beagles',\n",
       " 'french bulldogs',\n",
       " 'poodles',\n",
       " 'rottweilers',\n",
       " 'yorkshire terriers',\n",
       " 'boxers']"
      ]
     },
     "execution_count": 182,
     "metadata": {},
     "output_type": "execute_result"
    }
   ],
   "source": [
    "top100 = clean_top100(top100)\n",
    "top100[:10]"
   ]
  },
  {
   "cell_type": "code",
   "execution_count": 225,
   "metadata": {
    "collapsed": false
   },
   "outputs": [
    {
     "name": "stdout",
     "output_type": "stream",
     "text": [
      "\n"
     ]
    }
   ],
   "source": [
    "# get popular score\n",
    "def get_top_position(word, top100):\n",
    "    score = np.array([breed_dist(word, topb) for topb in top100])\n",
    "    top_ind = np.argmax(score)\n",
    "    return (top100[top_ind], score[top_ind], top_ind)\n",
    "def breed_dist(b1, b2):\n",
    "    br1 = snowball.stem(b1).strip().split()\n",
    "    br2 = snowball.stem(b2).strip().split()\n",
    "    return len(set(br1)&set(br2))*1.0/len(set(br1)|set(br2))"
   ]
  },
  {
   "cell_type": "code",
   "execution_count": 237,
   "metadata": {
    "collapsed": true
   },
   "outputs": [
    {
     "name": "stdout",
     "output_type": "stream",
     "text": [
      "yorkshire terrier ('yorkshire terriers', 1.0, 8)\n",
      "wheaten terrier ('soft coated wheaten terriers', 0.5, 49)\n",
      "chihuahua ('chihuahuas', 1.0, 29)\n",
      "samoyed ('samoyeds', 1.0, 64)\n",
      "beagle ('beagles', 1.0, 4)\n",
      "great pyrenees ('great pyrenees', 1.0, 66)\n",
      "american pit bull terrier ('bull terriers', 0.5, 56)\n",
      "pomeranian ('pomeranians', 1.0, 21)\n",
      "pug ('pugs', 1.0, 31)\n",
      "havanese ('havanese', 1.0, 22)\n",
      "miniature pinscher ('miniature pinschers', 1.0, 67)\n",
      "american bulldog ('bulldogs', 0.5, 3)\n",
      "german shorthaired ('pointers german shorthaired', 0.66666666666666663, 10)\n",
      "scottish terrier ('scottish terriers', 1.0, 57)\n",
      "boxer ('boxers', 1.0, 9)\n",
      "basset hound ('basset hounds', 1.0, 38)\n",
      "shiba inu ('shiba inu', 1.0, 43)\n",
      "newfoundland ('newfoundlands', 1.0, 34)\n",
      "total top breed in stanford database only 18\n"
     ]
    }
   ],
   "source": [
    "count = 0 \n",
    "ox_image_list = set()\n",
    "for ox_breed in ox_breed_list:\n",
    "    _, score, rank = get_top_position(ox_breed,top100)\n",
    "    if rank < 70 and score >0.4:\n",
    "        print ox_breed, get_top_position(ox_breed, top100)\n",
    "        ox_image_list.add(ox_breed)\n",
    "        count += 1\n",
    "print \"total top breed in stanford database only\", count"
   ]
  },
  {
   "cell_type": "code",
   "execution_count": 238,
   "metadata": {
    "collapsed": true
   },
   "outputs": [
    {
     "name": "stdout",
     "output_type": "stream",
     "text": [
      "rottweiler ('rottweilers', 1.0, 7)\n",
      "bull mastiff ('mastiffs', 0.5, 27)\n",
      "standard poodle ('poodles', 0.5, 6)\n",
      "papillon ('papillons', 1.0, 52)\n",
      "weimaraner ('weimaraners', 1.0, 33)\n",
      "basset ('basset hounds', 0.5, 38)\n",
      "border collie ('border collies', 1.0, 37)\n",
      "toy poodle ('poodles', 0.5, 6)\n",
      "malamute ('alaskan malamutes', 0.5, 58)\n",
      "french bulldog ('french bulldogs', 1.0, 5)\n",
      "shetland sheepdog ('shetland sheepdogs', 1.0, 23)\n",
      "cairn ('cairn terriers', 0.5, 69)\n",
      "whippet ('whippets', 1.0, 59)\n",
      "malinois ('belgian malinois', 0.5, 46)\n",
      "bernese mountain dog ('bernese mountain dogs', 1.0, 26)\n",
      "bloodhound ('bloodhounds', 1.0, 51)\n",
      "miniature poodle ('poodles', 0.5, 6)\n",
      "shih tzu ('shih tzu', 1.0, 19)\n",
      "rhodesian ridgeback ('rhodesian ridgebacks', 1.0, 41)\n",
      "west highland white terrier ('west highland white terriers', 1.0, 40)\n",
      "siberian husky ('siberian huskies', 1.0, 11)\n",
      "great dane ('great danes', 1.0, 13)\n",
      "collie ('collies', 1.0, 36)\n",
      "doberman ('doberman pinschers', 0.5, 14)\n",
      "chesapeake bay retriever ('retrievers chesapeake bay', 0.5, 42)\n",
      "vizsla ('vizslas', 1.0, 30)\n",
      "miniature schnauzer ('miniature schnauzers', 1.0, 16)\n",
      "english springer ('spaniels english springer', 0.66666666666666663, 25)\n",
      "soft coated wheaten terrier ('soft coated wheaten terriers', 1.0, 49)\n",
      "tibetan mastiff ('mastiffs', 0.5, 27)\n",
      "german shepherd ('german shepherd dogs', 0.66666666666666663, 1)\n",
      "total top breed in stanford database only 31\n"
     ]
    }
   ],
   "source": [
    "stan_only_breed = stanford_breed_list - ox_breed_list\n",
    "stan_image_list = set()\n",
    "count = 0 \n",
    "for stan_breed in stan_only_breed:\n",
    "    _, score, rank = get_top_position(stan_breed,top100)\n",
    "    if rank < 70 and score >0.4:\n",
    "        print stan_breed, get_top_position(stan_breed, top100)\n",
    "        stan_image_list.add(stan_breed)\n",
    "        count += 1\n",
    "print \"total top breed in stanford database only\", count"
   ]
  },
  {
   "cell_type": "markdown",
   "metadata": {},
   "source": [
    "### 3. Retrive pictures for  a breed"
   ]
  },
  {
   "cell_type": "code",
   "execution_count": 321,
   "metadata": {
    "collapsed": true
   },
   "outputs": [],
   "source": [
    "ox_img_path = '/Users/zhouyu/Documents/Zhou_Yu/DS/Galvanize/Capstone_data/ox/ox_images/'"
   ]
  },
  {
   "cell_type": "code",
   "execution_count": 322,
   "metadata": {
    "collapsed": false
   },
   "outputs": [],
   "source": [
    "ox_file_names = os.listdir(ox_img_path)"
   ]
  },
  {
   "cell_type": "code",
   "execution_count": 323,
   "metadata": {
    "collapsed": true
   },
   "outputs": [],
   "source": [
    "def find_ox_file_name(ox_breed, ox_file_names):\n",
    "    file_list = []\n",
    "    for fi in ox_file_names:\n",
    "        temp = remove_digit(fi.lower()).strip('.jpg').strip()\n",
    "        if temp == ox_breed and fi.endswith('.jpg'):\n",
    "            file_list.append(fi)\n",
    "    return file_list"
   ]
  },
  {
   "cell_type": "code",
   "execution_count": 324,
   "metadata": {
    "collapsed": false
   },
   "outputs": [],
   "source": [
    "ox_list = list(ox_image_list)\n",
    "test = find_ox_file_name(ox_list[11], ox_file_names)\n",
    "test_subset = [ox_img_path+x for x in test[:4]]"
   ]
  },
  {
   "cell_type": "code",
   "execution_count": 335,
   "metadata": {
    "collapsed": false
   },
   "outputs": [
    {
     "name": "stdout",
     "output_type": "stream",
     "text": [
      "(375, 500, 3)\n"
     ]
    },
    {
     "data": {
      "image/png": "[encoded data removed]",
      "text/plain": [
       "<matplotlib.figure.Figure at 0x119494c50>"
      ]
     },
     "metadata": {},
     "output_type": "display_data"
    }
   ],
   "source": [
    "# test code from https://stackoverflow.com/questions/33648322/tensorflow-image-reading-display\n",
    "one_file_queue = tf.train.string_input_producer(test_subset[:2])\n",
    "reader = tf.WholeFileReader()\n",
    "key, value = reader.read(filename_queue)\n",
    "\n",
    "my_img = tf.image.decode_jpeg(value) # use png or jpg decoder based on your files.\n",
    "\n",
    "init_op = tf.global_variables_initializer()\n",
    "with tf.Session() as sess:\n",
    "    sess.run(init_op)\n",
    "\n",
    "    # Start populating the filename queue.\n",
    "\n",
    "    coord = tf.train.Coordinator()\n",
    "    threads = tf.train.start_queue_runners(coord=coord)\n",
    "\n",
    "    for i in range(1): #length of your filename lis\n",
    "        image = my_img.eval() #here is your image Tensor :) \n",
    "\n",
    "    print(image.shape)\n",
    "    plt.imshow(image)\n",
    "\n",
    "    coord.request_stop()\n",
    "    coord.join(threads)"
   ]
  },
  {
   "cell_type": "code",
   "execution_count": 325,
   "metadata": {
    "collapsed": false
   },
   "outputs": [],
   "source": [
    "filename_queue = tf.train.string_input_producer(test_subset)"
   ]
  },
  {
   "cell_type": "code",
   "execution_count": 326,
   "metadata": {
    "collapsed": false
   },
   "outputs": [],
   "source": [
    "reader = tf.WholeFileReader()\n",
    "filename, content = reader.read(filename_queue)\n",
    "image = tf.image.decode_jpeg(content, channels=3)\n",
    "image = tf.cast(image, tf.float32)\n",
    "resized_image = tf.image.resize_images(image, [300, 300])"
   ]
  },
  {
   "cell_type": "code",
   "execution_count": null,
   "metadata": {
    "collapsed": true
   },
   "outputs": [],
   "source": []
  }
 ],
 "metadata": {
  "anaconda-cloud": {},
  "kernelspec": {
   "display_name": "Python [default]",
   "language": "python",
   "name": "python2"
  },
  "language_info": {
   "codemirror_mode": {
    "name": "ipython",
    "version": 2
   },
   "file_extension": ".py",
   "mimetype": "text/x-python",
   "name": "python",
   "nbconvert_exporter": "python",
   "pygments_lexer": "ipython2",
   "version": "2.7.13"
  }
 },
 "nbformat": 4,
 "nbformat_minor": 2
}
